{
 "cells": [
  {
   "cell_type": "markdown",
   "id": "47758d74",
   "metadata": {},
   "source": [
    "# Data Glacier Internship Group Project: Bank Marketing Campaign\n",
    "\n",
    "## Predicting Whether a Client Will Subscribe for a Term Deposit"
   ]
  },
  {
   "cell_type": "code",
   "execution_count": 4,
   "id": "a8d26d10",
   "metadata": {},
   "outputs": [],
   "source": [
    "import pandas as pd \n",
    "import numpy as np\n",
    "import seaborn as sns\n",
    "import matplotlib.pyplot as plt\n",
    "from scipy import stats\n",
    "from sklearn.preprocessing import StandardScaler\n",
    "from sklearn.linear_model import LogisticRegression\n",
    "from sklearn.model_selection import train_test_split\n",
    "from sklearn import metrics\n",
    "from sklearn.ensemble import RandomForestClassifier\n",
    "from sklearn import svm\n",
    "from sklearn.naive_bayes import GaussianNB\n",
    "import tensorflow as tf\n",
    "import keras\n",
    "from keras.layers import Dense, Activation\n",
    "\n",
    "sns.set()"
   ]
  },
  {
   "cell_type": "markdown",
   "id": "a32afc21",
   "metadata": {},
   "source": [
    "### Loading the Data"
   ]
  },
  {
   "cell_type": "code",
   "execution_count": 5,
   "id": "0c616602",
   "metadata": {},
   "outputs": [],
   "source": [
    "bank = pd.read_csv('data/bank.csv', sep = ';', header = 0) #smaller dataframe\n",
    "bank_full = pd.read_csv('data/bank-full.csv', sep = ';', header = 0) #full dataframe"
   ]
  },
  {
   "cell_type": "code",
   "execution_count": 6,
   "id": "5698f250",
   "metadata": {},
   "outputs": [
    {
     "data": {
      "text/html": [
       "<div>\n",
       "<style scoped>\n",
       "    .dataframe tbody tr th:only-of-type {\n",
       "        vertical-align: middle;\n",
       "    }\n",
       "\n",
       "    .dataframe tbody tr th {\n",
       "        vertical-align: top;\n",
       "    }\n",
       "\n",
       "    .dataframe thead th {\n",
       "        text-align: right;\n",
       "    }\n",
       "</style>\n",
       "<table border=\"1\" class=\"dataframe\">\n",
       "  <thead>\n",
       "    <tr style=\"text-align: right;\">\n",
       "      <th></th>\n",
       "      <th>age</th>\n",
       "      <th>job</th>\n",
       "      <th>marital</th>\n",
       "      <th>education</th>\n",
       "      <th>default</th>\n",
       "      <th>balance</th>\n",
       "      <th>housing</th>\n",
       "      <th>loan</th>\n",
       "      <th>contact</th>\n",
       "      <th>day</th>\n",
       "      <th>month</th>\n",
       "      <th>duration</th>\n",
       "      <th>campaign</th>\n",
       "      <th>pdays</th>\n",
       "      <th>previous</th>\n",
       "      <th>poutcome</th>\n",
       "      <th>y</th>\n",
       "    </tr>\n",
       "  </thead>\n",
       "  <tbody>\n",
       "    <tr>\n",
       "      <th>0</th>\n",
       "      <td>30</td>\n",
       "      <td>unemployed</td>\n",
       "      <td>married</td>\n",
       "      <td>primary</td>\n",
       "      <td>no</td>\n",
       "      <td>1787</td>\n",
       "      <td>no</td>\n",
       "      <td>no</td>\n",
       "      <td>cellular</td>\n",
       "      <td>19</td>\n",
       "      <td>oct</td>\n",
       "      <td>79</td>\n",
       "      <td>1</td>\n",
       "      <td>-1</td>\n",
       "      <td>0</td>\n",
       "      <td>unknown</td>\n",
       "      <td>no</td>\n",
       "    </tr>\n",
       "    <tr>\n",
       "      <th>1</th>\n",
       "      <td>33</td>\n",
       "      <td>services</td>\n",
       "      <td>married</td>\n",
       "      <td>secondary</td>\n",
       "      <td>no</td>\n",
       "      <td>4789</td>\n",
       "      <td>yes</td>\n",
       "      <td>yes</td>\n",
       "      <td>cellular</td>\n",
       "      <td>11</td>\n",
       "      <td>may</td>\n",
       "      <td>220</td>\n",
       "      <td>1</td>\n",
       "      <td>339</td>\n",
       "      <td>4</td>\n",
       "      <td>failure</td>\n",
       "      <td>no</td>\n",
       "    </tr>\n",
       "    <tr>\n",
       "      <th>2</th>\n",
       "      <td>35</td>\n",
       "      <td>management</td>\n",
       "      <td>single</td>\n",
       "      <td>tertiary</td>\n",
       "      <td>no</td>\n",
       "      <td>1350</td>\n",
       "      <td>yes</td>\n",
       "      <td>no</td>\n",
       "      <td>cellular</td>\n",
       "      <td>16</td>\n",
       "      <td>apr</td>\n",
       "      <td>185</td>\n",
       "      <td>1</td>\n",
       "      <td>330</td>\n",
       "      <td>1</td>\n",
       "      <td>failure</td>\n",
       "      <td>no</td>\n",
       "    </tr>\n",
       "    <tr>\n",
       "      <th>3</th>\n",
       "      <td>30</td>\n",
       "      <td>management</td>\n",
       "      <td>married</td>\n",
       "      <td>tertiary</td>\n",
       "      <td>no</td>\n",
       "      <td>1476</td>\n",
       "      <td>yes</td>\n",
       "      <td>yes</td>\n",
       "      <td>unknown</td>\n",
       "      <td>3</td>\n",
       "      <td>jun</td>\n",
       "      <td>199</td>\n",
       "      <td>4</td>\n",
       "      <td>-1</td>\n",
       "      <td>0</td>\n",
       "      <td>unknown</td>\n",
       "      <td>no</td>\n",
       "    </tr>\n",
       "    <tr>\n",
       "      <th>4</th>\n",
       "      <td>59</td>\n",
       "      <td>blue-collar</td>\n",
       "      <td>married</td>\n",
       "      <td>secondary</td>\n",
       "      <td>no</td>\n",
       "      <td>0</td>\n",
       "      <td>yes</td>\n",
       "      <td>no</td>\n",
       "      <td>unknown</td>\n",
       "      <td>5</td>\n",
       "      <td>may</td>\n",
       "      <td>226</td>\n",
       "      <td>1</td>\n",
       "      <td>-1</td>\n",
       "      <td>0</td>\n",
       "      <td>unknown</td>\n",
       "      <td>no</td>\n",
       "    </tr>\n",
       "  </tbody>\n",
       "</table>\n",
       "</div>"
      ],
      "text/plain": [
       "   age          job  marital  education default  balance housing loan  \\\n",
       "0   30   unemployed  married    primary      no     1787      no   no   \n",
       "1   33     services  married  secondary      no     4789     yes  yes   \n",
       "2   35   management   single   tertiary      no     1350     yes   no   \n",
       "3   30   management  married   tertiary      no     1476     yes  yes   \n",
       "4   59  blue-collar  married  secondary      no        0     yes   no   \n",
       "\n",
       "    contact  day month  duration  campaign  pdays  previous poutcome   y  \n",
       "0  cellular   19   oct        79         1     -1         0  unknown  no  \n",
       "1  cellular   11   may       220         1    339         4  failure  no  \n",
       "2  cellular   16   apr       185         1    330         1  failure  no  \n",
       "3   unknown    3   jun       199         4     -1         0  unknown  no  \n",
       "4   unknown    5   may       226         1     -1         0  unknown  no  "
      ]
     },
     "execution_count": 6,
     "metadata": {},
     "output_type": "execute_result"
    }
   ],
   "source": [
    "bank.head()"
   ]
  },
  {
   "cell_type": "code",
   "execution_count": 7,
   "id": "de8b4f8e",
   "metadata": {},
   "outputs": [
    {
     "data": {
      "text/html": [
       "<div>\n",
       "<style scoped>\n",
       "    .dataframe tbody tr th:only-of-type {\n",
       "        vertical-align: middle;\n",
       "    }\n",
       "\n",
       "    .dataframe tbody tr th {\n",
       "        vertical-align: top;\n",
       "    }\n",
       "\n",
       "    .dataframe thead th {\n",
       "        text-align: right;\n",
       "    }\n",
       "</style>\n",
       "<table border=\"1\" class=\"dataframe\">\n",
       "  <thead>\n",
       "    <tr style=\"text-align: right;\">\n",
       "      <th></th>\n",
       "      <th>age</th>\n",
       "      <th>job</th>\n",
       "      <th>marital</th>\n",
       "      <th>education</th>\n",
       "      <th>default</th>\n",
       "      <th>balance</th>\n",
       "      <th>housing</th>\n",
       "      <th>loan</th>\n",
       "      <th>contact</th>\n",
       "      <th>day</th>\n",
       "      <th>month</th>\n",
       "      <th>duration</th>\n",
       "      <th>campaign</th>\n",
       "      <th>pdays</th>\n",
       "      <th>previous</th>\n",
       "      <th>poutcome</th>\n",
       "      <th>y</th>\n",
       "    </tr>\n",
       "  </thead>\n",
       "  <tbody>\n",
       "    <tr>\n",
       "      <th>0</th>\n",
       "      <td>58</td>\n",
       "      <td>management</td>\n",
       "      <td>married</td>\n",
       "      <td>tertiary</td>\n",
       "      <td>no</td>\n",
       "      <td>2143</td>\n",
       "      <td>yes</td>\n",
       "      <td>no</td>\n",
       "      <td>unknown</td>\n",
       "      <td>5</td>\n",
       "      <td>may</td>\n",
       "      <td>261</td>\n",
       "      <td>1</td>\n",
       "      <td>-1</td>\n",
       "      <td>0</td>\n",
       "      <td>unknown</td>\n",
       "      <td>no</td>\n",
       "    </tr>\n",
       "    <tr>\n",
       "      <th>1</th>\n",
       "      <td>44</td>\n",
       "      <td>technician</td>\n",
       "      <td>single</td>\n",
       "      <td>secondary</td>\n",
       "      <td>no</td>\n",
       "      <td>29</td>\n",
       "      <td>yes</td>\n",
       "      <td>no</td>\n",
       "      <td>unknown</td>\n",
       "      <td>5</td>\n",
       "      <td>may</td>\n",
       "      <td>151</td>\n",
       "      <td>1</td>\n",
       "      <td>-1</td>\n",
       "      <td>0</td>\n",
       "      <td>unknown</td>\n",
       "      <td>no</td>\n",
       "    </tr>\n",
       "    <tr>\n",
       "      <th>2</th>\n",
       "      <td>33</td>\n",
       "      <td>entrepreneur</td>\n",
       "      <td>married</td>\n",
       "      <td>secondary</td>\n",
       "      <td>no</td>\n",
       "      <td>2</td>\n",
       "      <td>yes</td>\n",
       "      <td>yes</td>\n",
       "      <td>unknown</td>\n",
       "      <td>5</td>\n",
       "      <td>may</td>\n",
       "      <td>76</td>\n",
       "      <td>1</td>\n",
       "      <td>-1</td>\n",
       "      <td>0</td>\n",
       "      <td>unknown</td>\n",
       "      <td>no</td>\n",
       "    </tr>\n",
       "    <tr>\n",
       "      <th>3</th>\n",
       "      <td>47</td>\n",
       "      <td>blue-collar</td>\n",
       "      <td>married</td>\n",
       "      <td>unknown</td>\n",
       "      <td>no</td>\n",
       "      <td>1506</td>\n",
       "      <td>yes</td>\n",
       "      <td>no</td>\n",
       "      <td>unknown</td>\n",
       "      <td>5</td>\n",
       "      <td>may</td>\n",
       "      <td>92</td>\n",
       "      <td>1</td>\n",
       "      <td>-1</td>\n",
       "      <td>0</td>\n",
       "      <td>unknown</td>\n",
       "      <td>no</td>\n",
       "    </tr>\n",
       "    <tr>\n",
       "      <th>4</th>\n",
       "      <td>33</td>\n",
       "      <td>unknown</td>\n",
       "      <td>single</td>\n",
       "      <td>unknown</td>\n",
       "      <td>no</td>\n",
       "      <td>1</td>\n",
       "      <td>no</td>\n",
       "      <td>no</td>\n",
       "      <td>unknown</td>\n",
       "      <td>5</td>\n",
       "      <td>may</td>\n",
       "      <td>198</td>\n",
       "      <td>1</td>\n",
       "      <td>-1</td>\n",
       "      <td>0</td>\n",
       "      <td>unknown</td>\n",
       "      <td>no</td>\n",
       "    </tr>\n",
       "  </tbody>\n",
       "</table>\n",
       "</div>"
      ],
      "text/plain": [
       "   age           job  marital  education default  balance housing loan  \\\n",
       "0   58    management  married   tertiary      no     2143     yes   no   \n",
       "1   44    technician   single  secondary      no       29     yes   no   \n",
       "2   33  entrepreneur  married  secondary      no        2     yes  yes   \n",
       "3   47   blue-collar  married    unknown      no     1506     yes   no   \n",
       "4   33       unknown   single    unknown      no        1      no   no   \n",
       "\n",
       "   contact  day month  duration  campaign  pdays  previous poutcome   y  \n",
       "0  unknown    5   may       261         1     -1         0  unknown  no  \n",
       "1  unknown    5   may       151         1     -1         0  unknown  no  \n",
       "2  unknown    5   may        76         1     -1         0  unknown  no  \n",
       "3  unknown    5   may        92         1     -1         0  unknown  no  \n",
       "4  unknown    5   may       198         1     -1         0  unknown  no  "
      ]
     },
     "execution_count": 7,
     "metadata": {},
     "output_type": "execute_result"
    }
   ],
   "source": [
    "bank_full.head()"
   ]
  },
  {
   "cell_type": "markdown",
   "id": "58555be6",
   "metadata": {},
   "source": [
    "### Inspecting the Data, Looking for Problems in the Data"
   ]
  },
  {
   "cell_type": "markdown",
   "id": "37e009b1",
   "metadata": {},
   "source": [
    "#### Looking for Missing/NA Values"
   ]
  },
  {
   "cell_type": "code",
   "execution_count": 8,
   "id": "aa990832",
   "metadata": {},
   "outputs": [
    {
     "name": "stdout",
     "output_type": "stream",
     "text": [
      "Missing values in the small dataframe: 0\n",
      "Missing values in the full dataframe: 0\n"
     ]
    }
   ],
   "source": [
    "print(\"Missing values in the small dataframe:\", bank.isnull().sum().sum())\n",
    "print(\"Missing values in the full dataframe:\", bank_full.isnull().sum().sum())\n"
   ]
  },
  {
   "cell_type": "markdown",
   "id": "c7f2b2d7",
   "metadata": {},
   "source": [
    "There are no missing values in either of the datasets, so we will not need to deal with missing data."
   ]
  },
  {
   "cell_type": "code",
   "execution_count": 9,
   "id": "02cb5270",
   "metadata": {},
   "outputs": [
    {
     "name": "stdout",
     "output_type": "stream",
     "text": [
      "Missing values in the small dataframe: 0.0\n",
      "Missing values in the full dataframe: 0.0\n"
     ]
    }
   ],
   "source": [
    "\n",
    "#Checking for '999' values in 'pday' variable (999 means client was not previously contacted - so we should remove these \n",
    "# values if we find any)\n",
    "\n",
    "print(\"Missing values in the small dataframe:\", bank.loc[bank['pdays']==999].sum().sum())\n",
    "print(\"Missing values in the full dataframe:\", bank_full.loc[bank_full['pdays']==999].sum().sum())"
   ]
  },
  {
   "cell_type": "markdown",
   "id": "819abb94",
   "metadata": {},
   "source": [
    "There are no '999' values in the 'pdays' variable."
   ]
  },
  {
   "cell_type": "markdown",
   "id": "c7cc50f1",
   "metadata": {},
   "source": [
    "#### Looking for Skewed Data"
   ]
  },
  {
   "cell_type": "code",
   "execution_count": 10,
   "id": "2cd5f1f7",
   "metadata": {},
   "outputs": [
    {
     "data": {
      "image/png": "[encoded data removed]",
      "text/plain": [
       "<Figure size 432x288 with 1 Axes>"
      ]
     },
     "metadata": {},
     "output_type": "display_data"
    }
   ],
   "source": [
    "y_hist = sns.histplot(data=bank_full, x = 'y', color = 'teal')"
   ]
  },
  {
   "cell_type": "markdown",
   "id": "aa1bf734",
   "metadata": {},
   "source": [
    "The dataset is imbalanced, there are significantly more 'no' than 'yes'"
   ]
  },
  {
   "cell_type": "code",
   "execution_count": 11,
   "id": "32dd6d37",
   "metadata": {},
   "outputs": [
    {
     "data": {
      "text/plain": [
       "array([[<AxesSubplot:title={'center':'age'}>,\n",
       "        <AxesSubplot:title={'center':'balance'}>,\n",
       "        <AxesSubplot:title={'center':'day'}>],\n",
       "       [<AxesSubplot:title={'center':'duration'}>,\n",
       "        <AxesSubplot:title={'center':'campaign'}>,\n",
       "        <AxesSubplot:title={'center':'pdays'}>],\n",
       "       [<AxesSubplot:title={'center':'previous'}>, <AxesSubplot:>,\n",
       "        <AxesSubplot:>]], dtype=object)"
      ]
     },
     "execution_count": 11,
     "metadata": {},
     "output_type": "execute_result"
    },
    {
     "data": {
      "image/png": "[encoded data removed]",
      "text/plain": [
       "<Figure size 1080x1080 with 9 Axes>"
      ]
     },
     "metadata": {},
     "output_type": "display_data"
    }
   ],
   "source": [
    "bank_full.hist(figsize=(15, 15),color='teal')"
   ]
  },
  {
   "cell_type": "markdown",
   "id": "6d5947d4",
   "metadata": {},
   "source": [
    "Most numerical variables (balance, duration, campaign, and pdays) are strongly skewed to the right. The 'previous' variable may also be skewed right. 'Age' appears to be slightly skewed right, while the 'day' variable appears to follow an approximate normal distribution. "
   ]
  },
  {
   "cell_type": "markdown",
   "id": "c2851c1e",
   "metadata": {},
   "source": [
    "### Looking for Outliers"
   ]
  },
  {
   "cell_type": "markdown",
   "id": "b1e7e88d",
   "metadata": {},
   "source": [
    "#### Using Data Visualization to Find Outliers (Only for Numerical Variables)"
   ]
  },
  {
   "cell_type": "code",
   "execution_count": 12,
   "id": "d7646e58",
   "metadata": {},
   "outputs": [
    {
     "data": {
      "image/png": "[encoded data removed]",
      "text/plain": [
       "<Figure size 432x288 with 1 Axes>"
      ]
     },
     "metadata": {},
     "output_type": "display_data"
    },
    {
     "data": {
      "image/png": "[encoded data removed]",
      "text/plain": [
       "<Figure size 432x288 with 1 Axes>"
      ]
     },
     "metadata": {},
     "output_type": "display_data"
    },
    {
     "data": {
      "image/png": "[encoded data removed]",
      "text/plain": [
       "<Figure size 432x288 with 1 Axes>"
      ]
     },
     "metadata": {},
     "output_type": "display_data"
    },
    {
     "data": {
      "image/png": "[encoded data removed]",
      "text/plain": [
       "<Figure size 432x288 with 1 Axes>"
      ]
     },
     "metadata": {},
     "output_type": "display_data"
    },
    {
     "data": {
      "image/png": "[encoded data removed]",
      "text/plain": [
       "<Figure size 432x288 with 1 Axes>"
      ]
     },
     "metadata": {},
     "output_type": "display_data"
    },
    {
     "data": {
      "image/png": "[encoded data removed]",
      "text/plain": [
       "<Figure size 432x288 with 1 Axes>"
      ]
     },
     "metadata": {},
     "output_type": "display_data"
    },
    {
     "data": {
      "image/png": "[encoded data removed]",
      "text/plain": [
       "<Figure size 432x288 with 1 Axes>"
      ]
     },
     "metadata": {},
     "output_type": "display_data"
    }
   ],
   "source": [
    "#Scatterplots\n",
    "\n",
    "num_cols = ['age','balance','day','duration','campaign', 'pdays', 'previous']\n",
    "\n",
    "for col in num_cols:\n",
    "    plt.figure()\n",
    "    sns.scatterplot(x=col, y='y', data=bank_full,color='thistle')"
   ]
  },
  {
   "cell_type": "code",
   "execution_count": 13,
   "id": "60028b44",
   "metadata": {},
   "outputs": [
    {
     "data": {
      "image/png": "[encoded data removed]",
      "text/plain": [
       "<Figure size 432x288 with 1 Axes>"
      ]
     },
     "metadata": {},
     "output_type": "display_data"
    },
    {
     "data": {
      "image/png": "[encoded data removed]",
      "text/plain": [
       "<Figure size 432x288 with 1 Axes>"
      ]
     },
     "metadata": {},
     "output_type": "display_data"
    },
    {
     "data": {
      "image/png": "[encoded data removed]",
      "text/plain": [
       "<Figure size 432x288 with 1 Axes>"
      ]
     },
     "metadata": {},
     "output_type": "display_data"
    },
    {
     "data": {
      "image/png": "[encoded data removed]",
      "text/plain": [
       "<Figure size 432x288 with 1 Axes>"
      ]
     },
     "metadata": {},
     "output_type": "display_data"
    },
    {
     "data": {
      "image/png": "[encoded data removed]",
      "text/plain": [
       "<Figure size 432x288 with 1 Axes>"
      ]
     },
     "metadata": {},
     "output_type": "display_data"
    },
    {
     "data": {
      "image/png": "[encoded data removed]",
      "text/plain": [
       "<Figure size 432x288 with 1 Axes>"
      ]
     },
     "metadata": {},
     "output_type": "display_data"
    },
    {
     "data": {
      "image/png": "[encoded data removed]",
      "text/plain": [
       "<Figure size 432x288 with 1 Axes>"
      ]
     },
     "metadata": {},
     "output_type": "display_data"
    }
   ],
   "source": [
    "#Box Plots\n",
    "\n",
    "num_cols = ['age','balance','day','duration','campaign', 'pdays', 'previous']\n",
    "\n",
    "for col in num_cols:\n",
    "    plt.figure()\n",
    "    sns.boxplot(x=col, data=bank_full,color='darkseagreen')"
   ]
  },
  {
   "cell_type": "markdown",
   "id": "2c4102b6",
   "metadata": {},
   "source": [
    "There are some small outliers in the 'age' variable. Other variables ('balance', 'duration', 'campaign', 'pdays', and 'previous') have some pretty large outliers. The 'previous' variable has a very large outlier, this may be an error and we should probably remove this value."
   ]
  },
  {
   "cell_type": "markdown",
   "id": "f4acad74",
   "metadata": {},
   "source": [
    "## Fixing Skewed Data and Outliers"
   ]
  },
  {
   "cell_type": "markdown",
   "id": "6ea31824",
   "metadata": {},
   "source": [
    "### pdays"
   ]
  },
  {
   "cell_type": "code",
   "execution_count": 14,
   "id": "ce22cce7",
   "metadata": {},
   "outputs": [
    {
     "name": "stderr",
     "output_type": "stream",
     "text": [
      "C:\\Users\\jane9\\AppData\\Local\\R-MINI~1\\lib\\site-packages\\pandas\\core\\arraylike.py:397: RuntimeWarning: invalid value encountered in sqrt\n",
      "  result = getattr(ufunc, method)(*inputs, **kwargs)\n"
     ]
    },
    {
     "data": {
      "text/plain": [
       "-0.292640104073605"
      ]
     },
     "execution_count": 14,
     "metadata": {},
     "output_type": "execute_result"
    }
   ],
   "source": [
    "# sqrt method\n",
    "pdays_sqrt = np.sqrt(bank_full['pdays'])\n",
    "pdays_sqrt.skew()"
   ]
  },
  {
   "cell_type": "code",
   "execution_count": 15,
   "id": "34bc2a31",
   "metadata": {},
   "outputs": [
    {
     "data": {
      "text/plain": [
       "(array([ 148.,   91.,  605., 1562., 2184., 1607., 1878.,  121.,   29.,\n",
       "          32.]),\n",
       " array([ 1.        ,  3.85127091,  6.70254183,  9.55381274, 12.40508365,\n",
       "        15.25635456, 18.10762548, 20.95889639, 23.8101673 , 26.66143821,\n",
       "        29.51270913]),\n",
       " <BarContainer object of 10 artists>)"
      ]
     },
     "execution_count": 15,
     "metadata": {},
     "output_type": "execute_result"
    },
    {
     "data": {
      "image/png": "[encoded data removed]",
      "text/plain": [
       "<Figure size 432x288 with 1 Axes>"
      ]
     },
     "metadata": {},
     "output_type": "display_data"
    }
   ],
   "source": [
    "plt.hist(pdays_sqrt)"
   ]
  },
  {
   "cell_type": "markdown",
   "id": "18501709",
   "metadata": {},
   "source": [
    "We can fix the right-skewed data for pdays with square root."
   ]
  },
  {
   "cell_type": "markdown",
   "id": "255655d3",
   "metadata": {},
   "source": [
    "### duration"
   ]
  },
  {
   "cell_type": "code",
   "execution_count": 16,
   "id": "4112aa32",
   "metadata": {},
   "outputs": [
    {
     "data": {
      "text/plain": [
       "-0.45416422447582144"
      ]
     },
     "execution_count": 16,
     "metadata": {},
     "output_type": "execute_result"
    }
   ],
   "source": [
    "# log method\n",
    "duration_log = np.log(bank_full['duration']+1)\n",
    "duration_log.skew()"
   ]
  },
  {
   "cell_type": "code",
   "execution_count": 17,
   "id": "19558746",
   "metadata": {},
   "outputs": [
    {
     "data": {
      "text/plain": [
       "(array([5.0000e+00, 2.2000e+01, 4.8800e+02, 1.3520e+03, 4.1090e+03,\n",
       "        1.4496e+04, 1.6216e+04, 7.0930e+03, 1.3850e+03, 4.5000e+01]),\n",
       " array([0.        , 0.85008605, 1.70017211, 2.55025816, 3.40034421,\n",
       "        4.25043027, 5.10051632, 5.95060238, 6.80068843, 7.65077448,\n",
       "        8.50086054]),\n",
       " <BarContainer object of 10 artists>)"
      ]
     },
     "execution_count": 17,
     "metadata": {},
     "output_type": "execute_result"
    },
    {
     "data": {
      "image/png": "[encoded data removed]",
      "text/plain": [
       "<Figure size 432x288 with 1 Axes>"
      ]
     },
     "metadata": {},
     "output_type": "display_data"
    }
   ],
   "source": [
    "plt.hist(duration_log)"
   ]
  },
  {
   "cell_type": "markdown",
   "id": "c37e72c0",
   "metadata": {},
   "source": [
    "We can fix the right-skewed data for duration by adding 1 to all the data so the min is 1 and log the data."
   ]
  },
  {
   "cell_type": "markdown",
   "id": "7a8079f3",
   "metadata": {},
   "source": [
    "### campaign"
   ]
  },
  {
   "cell_type": "code",
   "execution_count": 18,
   "id": "a5733a20",
   "metadata": {},
   "outputs": [
    {
     "data": {
      "text/plain": [
       "0.16630337139412119"
      ]
     },
     "execution_count": 18,
     "metadata": {},
     "output_type": "execute_result"
    }
   ],
   "source": [
    "# Box-Cox method\n",
    "campaign_boxcox = stats.boxcox(bank_full['campaign'])[0]\n",
    "pd.Series(campaign_boxcox).skew()"
   ]
  },
  {
   "cell_type": "code",
   "execution_count": 19,
   "id": "f63afce7",
   "metadata": {},
   "outputs": [
    {
     "data": {
      "text/plain": [
       "(array([17544.,     0.,     0., 12505.,     0.,  5521.,  5286.,  2893.,\n",
       "         1175.,   287.]),\n",
       " array([0.        , 0.15712681, 0.31425362, 0.47138043, 0.62850724,\n",
       "        0.78563405, 0.94276086, 1.09988767, 1.25701448, 1.41414129,\n",
       "        1.5712681 ]),\n",
       " <BarContainer object of 10 artists>)"
      ]
     },
     "execution_count": 19,
     "metadata": {},
     "output_type": "execute_result"
    },
    {
     "data": {
      "image/png": "[encoded data removed]",
      "text/plain": [
       "<Figure size 432x288 with 1 Axes>"
      ]
     },
     "metadata": {},
     "output_type": "display_data"
    }
   ],
   "source": [
    "plt.hist(campaign_boxcox)"
   ]
  },
  {
   "cell_type": "markdown",
   "id": "91c48425",
   "metadata": {},
   "source": [
    "We can fix the right-skewed data for campaign with the box-cox method."
   ]
  },
  {
   "cell_type": "markdown",
   "id": "91467e24",
   "metadata": {},
   "source": [
    "### previous"
   ]
  },
  {
   "cell_type": "code",
   "execution_count": 20,
   "id": "01ddc3bc",
   "metadata": {},
   "outputs": [
    {
     "data": {
      "text/plain": [
       "0"
      ]
     },
     "execution_count": 20,
     "metadata": {},
     "output_type": "execute_result"
    }
   ],
   "source": [
    "bank_full['previous'].min()"
   ]
  },
  {
   "cell_type": "code",
   "execution_count": 21,
   "id": "2dc0390b",
   "metadata": {},
   "outputs": [
    {
     "data": {
      "text/plain": [
       "2.5161664491719806"
      ]
     },
     "execution_count": 21,
     "metadata": {},
     "output_type": "execute_result"
    }
   ],
   "source": [
    "previous_log = np.log(bank_full['previous']+1)\n",
    "pd.Series(previous_log).skew()"
   ]
  },
  {
   "cell_type": "code",
   "execution_count": 22,
   "id": "80b88594",
   "metadata": {},
   "outputs": [
    {
     "data": {
      "text/plain": [
       "(array([3.6954e+04, 4.8780e+03, 1.8560e+03, 1.0700e+03, 3.4500e+02,\n",
       "        8.9000e+01, 1.5000e+01, 3.0000e+00, 0.0000e+00, 1.0000e+00]),\n",
       " array([0.        , 0.56204009, 1.12408017, 1.68612026, 2.24816035,\n",
       "        2.81020043, 3.37224052, 3.93428061, 4.49632069, 5.05836078,\n",
       "        5.62040087]),\n",
       " <BarContainer object of 10 artists>)"
      ]
     },
     "execution_count": 22,
     "metadata": {},
     "output_type": "execute_result"
    },
    {
     "data": {
      "image/png": "[encoded data removed]",
      "text/plain": [
       "<Figure size 432x288 with 1 Axes>"
      ]
     },
     "metadata": {},
     "output_type": "display_data"
    }
   ],
   "source": [
    "plt.hist(previous_log)"
   ]
  },
  {
   "cell_type": "markdown",
   "id": "6466875c",
   "metadata": {},
   "source": [
    "We can fix the right-skewed data for previous with the log + 1 method. "
   ]
  },
  {
   "cell_type": "markdown",
   "id": "285b2c8e",
   "metadata": {},
   "source": [
    "### balance"
   ]
  },
  {
   "cell_type": "code",
   "execution_count": 23,
   "id": "eab93a6a",
   "metadata": {},
   "outputs": [
    {
     "data": {
      "text/plain": [
       "-8019"
      ]
     },
     "execution_count": 23,
     "metadata": {},
     "output_type": "execute_result"
    }
   ],
   "source": [
    "bank_full['balance'].min()"
   ]
  },
  {
   "cell_type": "code",
   "execution_count": 24,
   "id": "7a4e62cf",
   "metadata": {},
   "outputs": [
    {
     "data": {
      "text/plain": [
       "-0.4030797007571244"
      ]
     },
     "execution_count": 24,
     "metadata": {},
     "output_type": "execute_result"
    }
   ],
   "source": [
    "min_value = - bank_full['balance'].min() + 1\n",
    "campaign_boxcox = stats.boxcox(bank_full['balance']+min_value)[0]\n",
    "pd.Series(campaign_boxcox).skew()"
   ]
  },
  {
   "cell_type": "code",
   "execution_count": 25,
   "id": "380d998f",
   "metadata": {},
   "outputs": [
    {
     "data": {
      "text/plain": [
       "(array([1.0000e+00, 0.0000e+00, 0.0000e+00, 0.0000e+00, 0.0000e+00,\n",
       "        0.0000e+00, 1.0000e+00, 7.8000e+01, 4.4907e+04, 2.2400e+02]),\n",
       " array([0.        , 0.92934116, 1.85868231, 2.78802347, 3.71736463,\n",
       "        4.64670579, 5.57604694, 6.5053881 , 7.43472926, 8.36407041,\n",
       "        9.29341157]),\n",
       " <BarContainer object of 10 artists>)"
      ]
     },
     "execution_count": 25,
     "metadata": {},
     "output_type": "execute_result"
    },
    {
     "data": {
      "image/png": "[encoded data removed]",
      "text/plain": [
       "<Figure size 432x288 with 1 Axes>"
      ]
     },
     "metadata": {},
     "output_type": "display_data"
    }
   ],
   "source": [
    "plt.hist(campaign_boxcox)"
   ]
  },
  {
   "cell_type": "markdown",
   "id": "bdf42da7",
   "metadata": {},
   "source": [
    "## Preparing Data for Classification Models"
   ]
  },
  {
   "cell_type": "markdown",
   "id": "9a4b83d4",
   "metadata": {},
   "source": [
    "### Creating Dummy Variables for Categorical Variables"
   ]
  },
  {
   "cell_type": "code",
   "execution_count": 26,
   "id": "5cb75ad1",
   "metadata": {},
   "outputs": [],
   "source": [
    "target = np.where(bank_full['y'] == 'yes', 1, 0)"
   ]
  },
  {
   "cell_type": "code",
   "execution_count": 27,
   "id": "84ce7699",
   "metadata": {},
   "outputs": [],
   "source": [
    "bank_full['y'] = target"
   ]
  },
  {
   "cell_type": "code",
   "execution_count": 28,
   "id": "8a448820",
   "metadata": {},
   "outputs": [],
   "source": [
    "cat=['job','marital','education','default','housing','loan','contact','month','poutcome']\n",
    "for var in cat:\n",
    "    cat_list='var'+'_'+var\n",
    "    cat_list = pd.get_dummies(bank_full[var], prefix=var)\n",
    "    bank_full2=bank_full.join(cat_list)\n",
    "    bank_full=bank_full2"
   ]
  },
  {
   "cell_type": "code",
   "execution_count": 29,
   "id": "1b910581",
   "metadata": {},
   "outputs": [
    {
     "data": {
      "text/plain": [
       "array(['age', 'job', 'marital', 'education', 'default', 'balance',\n",
       "       'housing', 'loan', 'contact', 'day', 'month', 'duration',\n",
       "       'campaign', 'pdays', 'previous', 'poutcome', 'y', 'job_admin.',\n",
       "       'job_blue-collar', 'job_entrepreneur', 'job_housemaid',\n",
       "       'job_management', 'job_retired', 'job_self-employed',\n",
       "       'job_services', 'job_student', 'job_technician', 'job_unemployed',\n",
       "       'job_unknown', 'marital_divorced', 'marital_married',\n",
       "       'marital_single', 'education_primary', 'education_secondary',\n",
       "       'education_tertiary', 'education_unknown', 'default_no',\n",
       "       'default_yes', 'housing_no', 'housing_yes', 'loan_no', 'loan_yes',\n",
       "       'contact_cellular', 'contact_telephone', 'contact_unknown',\n",
       "       'month_apr', 'month_aug', 'month_dec', 'month_feb', 'month_jan',\n",
       "       'month_jul', 'month_jun', 'month_mar', 'month_may', 'month_nov',\n",
       "       'month_oct', 'month_sep', 'poutcome_failure', 'poutcome_other',\n",
       "       'poutcome_success', 'poutcome_unknown'], dtype=object)"
      ]
     },
     "execution_count": 29,
     "metadata": {},
     "output_type": "execute_result"
    }
   ],
   "source": [
    "bank_full.columns.values"
   ]
  },
  {
   "cell_type": "code",
   "execution_count": 30,
   "id": "5a9ea04f",
   "metadata": {},
   "outputs": [
    {
     "data": {
      "text/plain": [
       "array(['age', 'balance', 'day', 'duration', 'campaign', 'pdays',\n",
       "       'previous', 'y', 'job_admin.', 'job_blue-collar',\n",
       "       'job_entrepreneur', 'job_housemaid', 'job_management',\n",
       "       'job_retired', 'job_self-employed', 'job_services', 'job_student',\n",
       "       'job_technician', 'job_unemployed', 'job_unknown',\n",
       "       'marital_divorced', 'marital_married', 'marital_single',\n",
       "       'education_primary', 'education_secondary', 'education_tertiary',\n",
       "       'education_unknown', 'default_no', 'default_yes', 'housing_no',\n",
       "       'housing_yes', 'loan_no', 'loan_yes', 'contact_cellular',\n",
       "       'contact_telephone', 'contact_unknown', 'month_apr', 'month_aug',\n",
       "       'month_dec', 'month_feb', 'month_jan', 'month_jul', 'month_jun',\n",
       "       'month_mar', 'month_may', 'month_nov', 'month_oct', 'month_sep',\n",
       "       'poutcome_failure', 'poutcome_other', 'poutcome_success',\n",
       "       'poutcome_unknown'], dtype=object)"
      ]
     },
     "execution_count": 30,
     "metadata": {},
     "output_type": "execute_result"
    }
   ],
   "source": [
    "cat=['job','marital','education','default','housing','loan','contact','month','poutcome']\n",
    "bank_var=bank_full.columns.values.tolist()\n",
    "to_keep=[i for i in bank_var if i not in cat]\n",
    "\n",
    "bank_final=bank_full[to_keep]\n",
    "bank_final.columns.values"
   ]
  },
  {
   "cell_type": "markdown",
   "id": "1f5426b3",
   "metadata": {},
   "source": [
    "### Selecting Features"
   ]
  },
  {
   "cell_type": "code",
   "execution_count": 31,
   "id": "fb430eb5",
   "metadata": {},
   "outputs": [],
   "source": [
    "X = bank_final.loc[:, bank_final.columns != 'y'] #features\n",
    "X_2 = bank_final.loc[:, ~bank_final.columns.isin(['y', 'duration'])]\n",
    "y = bank_final['y'] #target variable"
   ]
  },
  {
   "cell_type": "code",
   "execution_count": 32,
   "id": "a21f611b",
   "metadata": {},
   "outputs": [
    {
     "data": {
      "text/html": [
       "<div>\n",
       "<style scoped>\n",
       "    .dataframe tbody tr th:only-of-type {\n",
       "        vertical-align: middle;\n",
       "    }\n",
       "\n",
       "    .dataframe tbody tr th {\n",
       "        vertical-align: top;\n",
       "    }\n",
       "\n",
       "    .dataframe thead th {\n",
       "        text-align: right;\n",
       "    }\n",
       "</style>\n",
       "<table border=\"1\" class=\"dataframe\">\n",
       "  <thead>\n",
       "    <tr style=\"text-align: right;\">\n",
       "      <th></th>\n",
       "      <th>age</th>\n",
       "      <th>balance</th>\n",
       "      <th>day</th>\n",
       "      <th>duration</th>\n",
       "      <th>campaign</th>\n",
       "      <th>pdays</th>\n",
       "      <th>previous</th>\n",
       "      <th>job_admin.</th>\n",
       "      <th>job_blue-collar</th>\n",
       "      <th>job_entrepreneur</th>\n",
       "      <th>...</th>\n",
       "      <th>month_jun</th>\n",
       "      <th>month_mar</th>\n",
       "      <th>month_may</th>\n",
       "      <th>month_nov</th>\n",
       "      <th>month_oct</th>\n",
       "      <th>month_sep</th>\n",
       "      <th>poutcome_failure</th>\n",
       "      <th>poutcome_other</th>\n",
       "      <th>poutcome_success</th>\n",
       "      <th>poutcome_unknown</th>\n",
       "    </tr>\n",
       "  </thead>\n",
       "  <tbody>\n",
       "    <tr>\n",
       "      <th>0</th>\n",
       "      <td>58</td>\n",
       "      <td>2143</td>\n",
       "      <td>5</td>\n",
       "      <td>261</td>\n",
       "      <td>1</td>\n",
       "      <td>-1</td>\n",
       "      <td>0</td>\n",
       "      <td>0</td>\n",
       "      <td>0</td>\n",
       "      <td>0</td>\n",
       "      <td>...</td>\n",
       "      <td>0</td>\n",
       "      <td>0</td>\n",
       "      <td>1</td>\n",
       "      <td>0</td>\n",
       "      <td>0</td>\n",
       "      <td>0</td>\n",
       "      <td>0</td>\n",
       "      <td>0</td>\n",
       "      <td>0</td>\n",
       "      <td>1</td>\n",
       "    </tr>\n",
       "    <tr>\n",
       "      <th>1</th>\n",
       "      <td>44</td>\n",
       "      <td>29</td>\n",
       "      <td>5</td>\n",
       "      <td>151</td>\n",
       "      <td>1</td>\n",
       "      <td>-1</td>\n",
       "      <td>0</td>\n",
       "      <td>0</td>\n",
       "      <td>0</td>\n",
       "      <td>0</td>\n",
       "      <td>...</td>\n",
       "      <td>0</td>\n",
       "      <td>0</td>\n",
       "      <td>1</td>\n",
       "      <td>0</td>\n",
       "      <td>0</td>\n",
       "      <td>0</td>\n",
       "      <td>0</td>\n",
       "      <td>0</td>\n",
       "      <td>0</td>\n",
       "      <td>1</td>\n",
       "    </tr>\n",
       "    <tr>\n",
       "      <th>2</th>\n",
       "      <td>33</td>\n",
       "      <td>2</td>\n",
       "      <td>5</td>\n",
       "      <td>76</td>\n",
       "      <td>1</td>\n",
       "      <td>-1</td>\n",
       "      <td>0</td>\n",
       "      <td>0</td>\n",
       "      <td>0</td>\n",
       "      <td>1</td>\n",
       "      <td>...</td>\n",
       "      <td>0</td>\n",
       "      <td>0</td>\n",
       "      <td>1</td>\n",
       "      <td>0</td>\n",
       "      <td>0</td>\n",
       "      <td>0</td>\n",
       "      <td>0</td>\n",
       "      <td>0</td>\n",
       "      <td>0</td>\n",
       "      <td>1</td>\n",
       "    </tr>\n",
       "    <tr>\n",
       "      <th>3</th>\n",
       "      <td>47</td>\n",
       "      <td>1506</td>\n",
       "      <td>5</td>\n",
       "      <td>92</td>\n",
       "      <td>1</td>\n",
       "      <td>-1</td>\n",
       "      <td>0</td>\n",
       "      <td>0</td>\n",
       "      <td>1</td>\n",
       "      <td>0</td>\n",
       "      <td>...</td>\n",
       "      <td>0</td>\n",
       "      <td>0</td>\n",
       "      <td>1</td>\n",
       "      <td>0</td>\n",
       "      <td>0</td>\n",
       "      <td>0</td>\n",
       "      <td>0</td>\n",
       "      <td>0</td>\n",
       "      <td>0</td>\n",
       "      <td>1</td>\n",
       "    </tr>\n",
       "    <tr>\n",
       "      <th>4</th>\n",
       "      <td>33</td>\n",
       "      <td>1</td>\n",
       "      <td>5</td>\n",
       "      <td>198</td>\n",
       "      <td>1</td>\n",
       "      <td>-1</td>\n",
       "      <td>0</td>\n",
       "      <td>0</td>\n",
       "      <td>0</td>\n",
       "      <td>0</td>\n",
       "      <td>...</td>\n",
       "      <td>0</td>\n",
       "      <td>0</td>\n",
       "      <td>1</td>\n",
       "      <td>0</td>\n",
       "      <td>0</td>\n",
       "      <td>0</td>\n",
       "      <td>0</td>\n",
       "      <td>0</td>\n",
       "      <td>0</td>\n",
       "      <td>1</td>\n",
       "    </tr>\n",
       "  </tbody>\n",
       "</table>\n",
       "<p>5 rows × 51 columns</p>\n",
       "</div>"
      ],
      "text/plain": [
       "   age  balance  day  duration  campaign  pdays  previous  job_admin.  \\\n",
       "0   58     2143    5       261         1     -1         0           0   \n",
       "1   44       29    5       151         1     -1         0           0   \n",
       "2   33        2    5        76         1     -1         0           0   \n",
       "3   47     1506    5        92         1     -1         0           0   \n",
       "4   33        1    5       198         1     -1         0           0   \n",
       "\n",
       "   job_blue-collar  job_entrepreneur  ...  month_jun  month_mar  month_may  \\\n",
       "0                0                 0  ...          0          0          1   \n",
       "1                0                 0  ...          0          0          1   \n",
       "2                0                 1  ...          0          0          1   \n",
       "3                1                 0  ...          0          0          1   \n",
       "4                0                 0  ...          0          0          1   \n",
       "\n",
       "   month_nov  month_oct  month_sep  poutcome_failure  poutcome_other  \\\n",
       "0          0          0          0                 0               0   \n",
       "1          0          0          0                 0               0   \n",
       "2          0          0          0                 0               0   \n",
       "3          0          0          0                 0               0   \n",
       "4          0          0          0                 0               0   \n",
       "\n",
       "   poutcome_success  poutcome_unknown  \n",
       "0                 0                 1  \n",
       "1                 0                 1  \n",
       "2                 0                 1  \n",
       "3                 0                 1  \n",
       "4                 0                 1  \n",
       "\n",
       "[5 rows x 51 columns]"
      ]
     },
     "execution_count": 32,
     "metadata": {},
     "output_type": "execute_result"
    }
   ],
   "source": [
    "X.head()"
   ]
  },
  {
   "cell_type": "code",
   "execution_count": 33,
   "id": "25231293",
   "metadata": {},
   "outputs": [
    {
     "data": {
      "text/html": [
       "<div>\n",
       "<style scoped>\n",
       "    .dataframe tbody tr th:only-of-type {\n",
       "        vertical-align: middle;\n",
       "    }\n",
       "\n",
       "    .dataframe tbody tr th {\n",
       "        vertical-align: top;\n",
       "    }\n",
       "\n",
       "    .dataframe thead th {\n",
       "        text-align: right;\n",
       "    }\n",
       "</style>\n",
       "<table border=\"1\" class=\"dataframe\">\n",
       "  <thead>\n",
       "    <tr style=\"text-align: right;\">\n",
       "      <th></th>\n",
       "      <th>age</th>\n",
       "      <th>balance</th>\n",
       "      <th>day</th>\n",
       "      <th>campaign</th>\n",
       "      <th>pdays</th>\n",
       "      <th>previous</th>\n",
       "      <th>job_admin.</th>\n",
       "      <th>job_blue-collar</th>\n",
       "      <th>job_entrepreneur</th>\n",
       "      <th>job_housemaid</th>\n",
       "      <th>...</th>\n",
       "      <th>month_jun</th>\n",
       "      <th>month_mar</th>\n",
       "      <th>month_may</th>\n",
       "      <th>month_nov</th>\n",
       "      <th>month_oct</th>\n",
       "      <th>month_sep</th>\n",
       "      <th>poutcome_failure</th>\n",
       "      <th>poutcome_other</th>\n",
       "      <th>poutcome_success</th>\n",
       "      <th>poutcome_unknown</th>\n",
       "    </tr>\n",
       "  </thead>\n",
       "  <tbody>\n",
       "    <tr>\n",
       "      <th>0</th>\n",
       "      <td>58</td>\n",
       "      <td>2143</td>\n",
       "      <td>5</td>\n",
       "      <td>1</td>\n",
       "      <td>-1</td>\n",
       "      <td>0</td>\n",
       "      <td>0</td>\n",
       "      <td>0</td>\n",
       "      <td>0</td>\n",
       "      <td>0</td>\n",
       "      <td>...</td>\n",
       "      <td>0</td>\n",
       "      <td>0</td>\n",
       "      <td>1</td>\n",
       "      <td>0</td>\n",
       "      <td>0</td>\n",
       "      <td>0</td>\n",
       "      <td>0</td>\n",
       "      <td>0</td>\n",
       "      <td>0</td>\n",
       "      <td>1</td>\n",
       "    </tr>\n",
       "    <tr>\n",
       "      <th>1</th>\n",
       "      <td>44</td>\n",
       "      <td>29</td>\n",
       "      <td>5</td>\n",
       "      <td>1</td>\n",
       "      <td>-1</td>\n",
       "      <td>0</td>\n",
       "      <td>0</td>\n",
       "      <td>0</td>\n",
       "      <td>0</td>\n",
       "      <td>0</td>\n",
       "      <td>...</td>\n",
       "      <td>0</td>\n",
       "      <td>0</td>\n",
       "      <td>1</td>\n",
       "      <td>0</td>\n",
       "      <td>0</td>\n",
       "      <td>0</td>\n",
       "      <td>0</td>\n",
       "      <td>0</td>\n",
       "      <td>0</td>\n",
       "      <td>1</td>\n",
       "    </tr>\n",
       "    <tr>\n",
       "      <th>2</th>\n",
       "      <td>33</td>\n",
       "      <td>2</td>\n",
       "      <td>5</td>\n",
       "      <td>1</td>\n",
       "      <td>-1</td>\n",
       "      <td>0</td>\n",
       "      <td>0</td>\n",
       "      <td>0</td>\n",
       "      <td>1</td>\n",
       "      <td>0</td>\n",
       "      <td>...</td>\n",
       "      <td>0</td>\n",
       "      <td>0</td>\n",
       "      <td>1</td>\n",
       "      <td>0</td>\n",
       "      <td>0</td>\n",
       "      <td>0</td>\n",
       "      <td>0</td>\n",
       "      <td>0</td>\n",
       "      <td>0</td>\n",
       "      <td>1</td>\n",
       "    </tr>\n",
       "    <tr>\n",
       "      <th>3</th>\n",
       "      <td>47</td>\n",
       "      <td>1506</td>\n",
       "      <td>5</td>\n",
       "      <td>1</td>\n",
       "      <td>-1</td>\n",
       "      <td>0</td>\n",
       "      <td>0</td>\n",
       "      <td>1</td>\n",
       "      <td>0</td>\n",
       "      <td>0</td>\n",
       "      <td>...</td>\n",
       "      <td>0</td>\n",
       "      <td>0</td>\n",
       "      <td>1</td>\n",
       "      <td>0</td>\n",
       "      <td>0</td>\n",
       "      <td>0</td>\n",
       "      <td>0</td>\n",
       "      <td>0</td>\n",
       "      <td>0</td>\n",
       "      <td>1</td>\n",
       "    </tr>\n",
       "    <tr>\n",
       "      <th>4</th>\n",
       "      <td>33</td>\n",
       "      <td>1</td>\n",
       "      <td>5</td>\n",
       "      <td>1</td>\n",
       "      <td>-1</td>\n",
       "      <td>0</td>\n",
       "      <td>0</td>\n",
       "      <td>0</td>\n",
       "      <td>0</td>\n",
       "      <td>0</td>\n",
       "      <td>...</td>\n",
       "      <td>0</td>\n",
       "      <td>0</td>\n",
       "      <td>1</td>\n",
       "      <td>0</td>\n",
       "      <td>0</td>\n",
       "      <td>0</td>\n",
       "      <td>0</td>\n",
       "      <td>0</td>\n",
       "      <td>0</td>\n",
       "      <td>1</td>\n",
       "    </tr>\n",
       "  </tbody>\n",
       "</table>\n",
       "<p>5 rows × 50 columns</p>\n",
       "</div>"
      ],
      "text/plain": [
       "   age  balance  day  campaign  pdays  previous  job_admin.  job_blue-collar  \\\n",
       "0   58     2143    5         1     -1         0           0                0   \n",
       "1   44       29    5         1     -1         0           0                0   \n",
       "2   33        2    5         1     -1         0           0                0   \n",
       "3   47     1506    5         1     -1         0           0                1   \n",
       "4   33        1    5         1     -1         0           0                0   \n",
       "\n",
       "   job_entrepreneur  job_housemaid  ...  month_jun  month_mar  month_may  \\\n",
       "0                 0              0  ...          0          0          1   \n",
       "1                 0              0  ...          0          0          1   \n",
       "2                 1              0  ...          0          0          1   \n",
       "3                 0              0  ...          0          0          1   \n",
       "4                 0              0  ...          0          0          1   \n",
       "\n",
       "   month_nov  month_oct  month_sep  poutcome_failure  poutcome_other  \\\n",
       "0          0          0          0                 0               0   \n",
       "1          0          0          0                 0               0   \n",
       "2          0          0          0                 0               0   \n",
       "3          0          0          0                 0               0   \n",
       "4          0          0          0                 0               0   \n",
       "\n",
       "   poutcome_success  poutcome_unknown  \n",
       "0                 0                 1  \n",
       "1                 0                 1  \n",
       "2                 0                 1  \n",
       "3                 0                 1  \n",
       "4                 0                 1  \n",
       "\n",
       "[5 rows x 50 columns]"
      ]
     },
     "execution_count": 33,
     "metadata": {},
     "output_type": "execute_result"
    }
   ],
   "source": [
    "X_2.head()"
   ]
  },
  {
   "cell_type": "code",
   "execution_count": 34,
   "id": "6e4ff310",
   "metadata": {},
   "outputs": [
    {
     "data": {
      "text/plain": [
       "0    0\n",
       "1    0\n",
       "2    0\n",
       "3    0\n",
       "4    0\n",
       "Name: y, dtype: int32"
      ]
     },
     "execution_count": 34,
     "metadata": {},
     "output_type": "execute_result"
    }
   ],
   "source": [
    "y.head()"
   ]
  },
  {
   "cell_type": "markdown",
   "id": "6ccd85e5",
   "metadata": {},
   "source": [
    "## Classification Models"
   ]
  },
  {
   "cell_type": "markdown",
   "id": "89165481",
   "metadata": {},
   "source": [
    "### Logistic Regression"
   ]
  },
  {
   "cell_type": "markdown",
   "id": "ce16ec25",
   "metadata": {},
   "source": [
    "#### Splitting the Data"
   ]
  },
  {
   "cell_type": "code",
   "execution_count": 35,
   "id": "14d24ddc",
   "metadata": {},
   "outputs": [],
   "source": [
    "X_train, X_test, y_train, y_test = train_test_split(X_2, y, train_size=0.7, random_state=42)"
   ]
  },
  {
   "cell_type": "markdown",
   "id": "f43d0ddc",
   "metadata": {},
   "source": [
    "#### Scaling the Feature Variables"
   ]
  },
  {
   "cell_type": "code",
   "execution_count": 36,
   "id": "339e1a74",
   "metadata": {},
   "outputs": [],
   "source": [
    "scaler = StandardScaler()"
   ]
  },
  {
   "cell_type": "code",
   "execution_count": 37,
   "id": "5974083c",
   "metadata": {},
   "outputs": [],
   "source": [
    "#Scaling the training data\n",
    "scaled_X_train = X_train.copy()"
   ]
  },
  {
   "cell_type": "code",
   "execution_count": 38,
   "id": "42ccac2a",
   "metadata": {},
   "outputs": [],
   "source": [
    "#Scaling the training data\n",
    "scaled_X_train[['age','balance','day','campaign','pdays','previous']] = scaler.fit_transform(scaled_X_train[['age','balance','day','campaign','pdays','previous']])"
   ]
  },
  {
   "cell_type": "code",
   "execution_count": 39,
   "id": "c5e03cd1",
   "metadata": {},
   "outputs": [],
   "source": [
    "#Scaling the testing data\n",
    "scaled_X_test = X_test.copy()"
   ]
  },
  {
   "cell_type": "code",
   "execution_count": 40,
   "id": "fd77cff1",
   "metadata": {},
   "outputs": [],
   "source": [
    "scaled_X_test[['age','balance','day','campaign','pdays','previous']] = scaler.fit_transform(scaled_X_test[['age','balance','day','campaign','pdays','previous']])"
   ]
  },
  {
   "cell_type": "markdown",
   "id": "e52666e9",
   "metadata": {},
   "source": [
    "#### Building the Model and Making Predictions"
   ]
  },
  {
   "cell_type": "code",
   "execution_count": 105,
   "id": "08ee3386",
   "metadata": {},
   "outputs": [
    {
     "data": {
      "text/html": [
       "<style>#sk-container-id-4 {color: black;background-color: white;}#sk-container-id-4 pre{padding: 0;}#sk-container-id-4 div.sk-toggleable {background-color: white;}#sk-container-id-4 label.sk-toggleable__label {cursor: pointer;display: block;width: 100%;margin-bottom: 0;padding: 0.3em;box-sizing: border-box;text-align: center;}#sk-container-id-4 label.sk-toggleable__label-arrow:before {content: \"▸\";float: left;margin-right: 0.25em;color: #696969;}#sk-container-id-4 label.sk-toggleable__label-arrow:hover:before {color: black;}#sk-container-id-4 div.sk-estimator:hover label.sk-toggleable__label-arrow:before {color: black;}#sk-container-id-4 div.sk-toggleable__content {max-height: 0;max-width: 0;overflow: hidden;text-align: left;background-color: #f0f8ff;}#sk-container-id-4 div.sk-toggleable__content pre {margin: 0.2em;color: black;border-radius: 0.25em;background-color: #f0f8ff;}#sk-container-id-4 input.sk-toggleable__control:checked~div.sk-toggleable__content {max-height: 200px;max-width: 100%;overflow: auto;}#sk-container-id-4 input.sk-toggleable__control:checked~label.sk-toggleable__label-arrow:before {content: \"▾\";}#sk-container-id-4 div.sk-estimator input.sk-toggleable__control:checked~label.sk-toggleable__label {background-color: #d4ebff;}#sk-container-id-4 div.sk-label input.sk-toggleable__control:checked~label.sk-toggleable__label {background-color: #d4ebff;}#sk-container-id-4 input.sk-hidden--visually {border: 0;clip: rect(1px 1px 1px 1px);clip: rect(1px, 1px, 1px, 1px);height: 1px;margin: -1px;overflow: hidden;padding: 0;position: absolute;width: 1px;}#sk-container-id-4 div.sk-estimator {font-family: monospace;background-color: #f0f8ff;border: 1px dotted black;border-radius: 0.25em;box-sizing: border-box;margin-bottom: 0.5em;}#sk-container-id-4 div.sk-estimator:hover {background-color: #d4ebff;}#sk-container-id-4 div.sk-parallel-item::after {content: \"\";width: 100%;border-bottom: 1px solid gray;flex-grow: 1;}#sk-container-id-4 div.sk-label:hover label.sk-toggleable__label {background-color: #d4ebff;}#sk-container-id-4 div.sk-serial::before {content: \"\";position: absolute;border-left: 1px solid gray;box-sizing: border-box;top: 0;bottom: 0;left: 50%;z-index: 0;}#sk-container-id-4 div.sk-serial {display: flex;flex-direction: column;align-items: center;background-color: white;padding-right: 0.2em;padding-left: 0.2em;position: relative;}#sk-container-id-4 div.sk-item {position: relative;z-index: 1;}#sk-container-id-4 div.sk-parallel {display: flex;align-items: stretch;justify-content: center;background-color: white;position: relative;}#sk-container-id-4 div.sk-item::before, #sk-container-id-4 div.sk-parallel-item::before {content: \"\";position: absolute;border-left: 1px solid gray;box-sizing: border-box;top: 0;bottom: 0;left: 50%;z-index: -1;}#sk-container-id-4 div.sk-parallel-item {display: flex;flex-direction: column;z-index: 1;position: relative;background-color: white;}#sk-container-id-4 div.sk-parallel-item:first-child::after {align-self: flex-end;width: 50%;}#sk-container-id-4 div.sk-parallel-item:last-child::after {align-self: flex-start;width: 50%;}#sk-container-id-4 div.sk-parallel-item:only-child::after {width: 0;}#sk-container-id-4 div.sk-dashed-wrapped {border: 1px dashed gray;margin: 0 0.4em 0.5em 0.4em;box-sizing: border-box;padding-bottom: 0.4em;background-color: white;}#sk-container-id-4 div.sk-label label {font-family: monospace;font-weight: bold;display: inline-block;line-height: 1.2em;}#sk-container-id-4 div.sk-label-container {text-align: center;}#sk-container-id-4 div.sk-container {/* jupyter's `normalize.less` sets `[hidden] { display: none; }` but bootstrap.min.css set `[hidden] { display: none !important; }` so we also need the `!important` here to be able to override the default hidden behavior on the sphinx rendered scikit-learn.org. See: https://github.com/scikit-learn/scikit-learn/issues/21755 */display: inline-block !important;position: relative;}#sk-container-id-4 div.sk-text-repr-fallback {display: none;}</style><div id=\"sk-container-id-4\" class=\"sk-top-container\"><div class=\"sk-text-repr-fallback\"><pre>LogisticRegression(solver=&#x27;liblinear&#x27;)</pre><b>In a Jupyter environment, please rerun this cell to show the HTML representation or trust the notebook. <br />On GitHub, the HTML representation is unable to render, please try loading this page with nbviewer.org.</b></div><div class=\"sk-container\" hidden><div class=\"sk-item\"><div class=\"sk-estimator sk-toggleable\"><input class=\"sk-toggleable__control sk-hidden--visually\" id=\"sk-estimator-id-4\" type=\"checkbox\" checked><label for=\"sk-estimator-id-4\" class=\"sk-toggleable__label sk-toggleable__label-arrow\">LogisticRegression</label><div class=\"sk-toggleable__content\"><pre>LogisticRegression(solver=&#x27;liblinear&#x27;)</pre></div></div></div></div></div>"
      ],
      "text/plain": [
       "LogisticRegression(solver='liblinear')"
      ]
     },
     "execution_count": 105,
     "metadata": {},
     "output_type": "execute_result"
    }
   ],
   "source": [
    "log_reg = LogisticRegression(solver='liblinear')\n",
    "log_reg.fit(scaled_X_train, y_train)"
   ]
  },
  {
   "cell_type": "code",
   "execution_count": 106,
   "id": "6f7c1862",
   "metadata": {},
   "outputs": [],
   "source": [
    "y_pred = log_reg.predict(scaled_X_test)"
   ]
  },
  {
   "cell_type": "markdown",
   "id": "d58bfc4a",
   "metadata": {},
   "source": [
    "#### Determining Which Features Have the Greatest Influence on Whether a Customer Will Subscribe for a Term Deposit"
   ]
  },
  {
   "cell_type": "code",
   "execution_count": 107,
   "id": "af41fa48",
   "metadata": {},
   "outputs": [],
   "source": [
    "feature_names = pd.DataFrame(scaled_X_train.columns, columns = ['Feature'])\n",
    "lr_coef = pd.DataFrame(np.transpose(log_reg.coef_), columns = ['Coefficient'])\n",
    "coef = pd.concat([feature_names, lr_coef], axis = 1)\n",
    "coef = coef.sort_values(by='Coefficient', ascending=False)"
   ]
  },
  {
   "cell_type": "markdown",
   "id": "52e7104e",
   "metadata": {},
   "source": [
    "#### Visualizing Logistic Regression Coefficients"
   ]
  },
  {
   "cell_type": "code",
   "execution_count": 44,
   "id": "48f31d25",
   "metadata": {},
   "outputs": [
    {
     "data": {
      "image/png": "[encoded data removed]",
      "text/plain": [
       "<Figure size 432x288 with 1 Axes>"
      ]
     },
     "metadata": {},
     "output_type": "display_data"
    },
    {
     "data": {
      "text/plain": [
       "<Figure size 1296x864 with 0 Axes>"
      ]
     },
     "metadata": {},
     "output_type": "display_data"
    }
   ],
   "source": [
    "#10 Largest Positive Coefficient\n",
    "sns.set_style(\"whitegrid\")\n",
    "plt.barh(coef['Feature'].head(10),coef['Coefficient'].head(10),color = sns.color_palette('twilight_r'))\n",
    "plt.title('Top 10 Features with Positive Coefficient',fontsize=14)\n",
    "plt.ylabel('Feature',fontsize=14)\n",
    "plt.xlabel('Logistic Regression Coefficient',fontsize=14)\n",
    "plt.figure(figsize=(18,12))\n",
    "plt.show()"
   ]
  },
  {
   "cell_type": "code",
   "execution_count": 45,
   "id": "c503d220",
   "metadata": {},
   "outputs": [
    {
     "data": {
      "image/png": "[encoded data removed]",
      "text/plain": [
       "<Figure size 432x288 with 1 Axes>"
      ]
     },
     "metadata": {},
     "output_type": "display_data"
    },
    {
     "data": {
      "text/plain": [
       "<Figure size 1296x864 with 0 Axes>"
      ]
     },
     "metadata": {},
     "output_type": "display_data"
    }
   ],
   "source": [
    "#10 Largest Negative Coefficient\n",
    "sns.set_style(\"whitegrid\")\n",
    "plt.barh(coef['Feature'].tail(10),coef['Coefficient'].tail(10),color = sns.color_palette('twilight_r'))\n",
    "plt.title('Top 10 Features with Negative Coefficient',fontsize=14)\n",
    "plt.ylabel('Feature',fontsize=14)\n",
    "plt.xlabel('Logistic Regression Coefficient',fontsize=14)\n",
    "plt.figure(figsize=(18,12))\n",
    "plt.show()"
   ]
  },
  {
   "cell_type": "markdown",
   "id": "97037658",
   "metadata": {},
   "source": [
    "#### Evaluating the Model"
   ]
  },
  {
   "cell_type": "code",
   "execution_count": 108,
   "id": "1b64397d",
   "metadata": {},
   "outputs": [
    {
     "name": "stdout",
     "output_type": "stream",
     "text": [
      "Accuracy: 0.8921409613683279\n"
     ]
    }
   ],
   "source": [
    "#Accuracy Score\n",
    "print(\"Accuracy:\",metrics.accuracy_score(y_test, y_pred))"
   ]
  },
  {
   "cell_type": "code",
   "execution_count": 109,
   "id": "2c9aa766",
   "metadata": {},
   "outputs": [
    {
     "data": {
      "text/plain": [
       "array([[11808,   158],\n",
       "       [ 1305,   293]], dtype=int64)"
      ]
     },
     "execution_count": 109,
     "metadata": {},
     "output_type": "execute_result"
    }
   ],
   "source": [
    "#Confusion matrix\n",
    "conf_mat = metrics.confusion_matrix(y_test, y_pred)\n",
    "conf_mat"
   ]
  },
  {
   "cell_type": "code",
   "execution_count": 110,
   "id": "12ce3045",
   "metadata": {},
   "outputs": [
    {
     "data": {
      "image/png": "[encoded data removed]",
      "text/plain": [
       "<Figure size 432x288 with 2 Axes>"
      ]
     },
     "metadata": {},
     "output_type": "display_data"
    }
   ],
   "source": [
    "#Plotting heatmap of confusion matrix\n",
    "\n",
    "ax = plt.subplot()\n",
    "\n",
    "sns.heatmap(conf_mat/np.sum(conf_mat), annot=True, \n",
    "            fmt='.2%', cmap='Greens', ax = ax)\n",
    "\n",
    "ax.set_xlabel('Predicted labels');ax.set_ylabel('True labels'); \n",
    "ax.set_title('Confusion Matrix'); \n",
    "ax.xaxis.set_ticklabels(['No', 'Yes']); ax.yaxis.set_ticklabels(['No', 'Yes']);"
   ]
  },
  {
   "cell_type": "code",
   "execution_count": 48,
   "id": "ebb2dbff",
   "metadata": {},
   "outputs": [
    {
     "name": "stdout",
     "output_type": "stream",
     "text": [
      "              precision    recall  f1-score   support\n",
      "\n",
      "           0       0.90      0.99      0.94     11966\n",
      "           1       0.65      0.18      0.29      1598\n",
      "\n",
      "    accuracy                           0.89     13564\n",
      "   macro avg       0.78      0.59      0.61     13564\n",
      "weighted avg       0.87      0.89      0.86     13564\n",
      "\n"
     ]
    }
   ],
   "source": [
    "#Classification report\n",
    "print(metrics.classification_report(y_test, y_pred))"
   ]
  },
  {
   "cell_type": "markdown",
   "id": "dcd9776d",
   "metadata": {},
   "source": [
    "### Logistic Regression Model with Duration Included"
   ]
  },
  {
   "cell_type": "markdown",
   "id": "2d67cd07",
   "metadata": {},
   "source": [
    "#### Scaling the Data"
   ]
  },
  {
   "cell_type": "code",
   "execution_count": 49,
   "id": "008017b7",
   "metadata": {},
   "outputs": [],
   "source": [
    "X_train_d, X_test_d, y_train_d, y_test_d = train_test_split(X, y, train_size=0.7, random_state=42)"
   ]
  },
  {
   "cell_type": "code",
   "execution_count": 50,
   "id": "8a863858",
   "metadata": {},
   "outputs": [],
   "source": [
    "#Scaling the training data\n",
    "scaled_X_train_d = X_train_d.copy()\n",
    "\n",
    "scaled_X_train_d[['age','balance','day','campaign','pdays','previous']] = scaler.fit_transform(scaled_X_train_d[['age','balance','day','campaign','pdays','previous']])"
   ]
  },
  {
   "cell_type": "code",
   "execution_count": 51,
   "id": "1586451a",
   "metadata": {},
   "outputs": [],
   "source": [
    "#Scaling the testing data\n",
    "scaled_X_test_d = X_test_d.copy()\n",
    "\n",
    "scaled_X_test_d[['age','balance','day','campaign','pdays','previous']] = scaler.fit_transform(scaled_X_test_d[['age','balance','day','campaign','pdays','previous']])"
   ]
  },
  {
   "cell_type": "markdown",
   "id": "ff21b125",
   "metadata": {},
   "source": [
    "#### Fitting and Training the Model, Making Predictions on the Testing Data"
   ]
  },
  {
   "cell_type": "code",
   "execution_count": 52,
   "id": "4d3dd0ba",
   "metadata": {},
   "outputs": [
    {
     "data": {
      "text/html": [
       "<style>#sk-container-id-2 {color: black;background-color: white;}#sk-container-id-2 pre{padding: 0;}#sk-container-id-2 div.sk-toggleable {background-color: white;}#sk-container-id-2 label.sk-toggleable__label {cursor: pointer;display: block;width: 100%;margin-bottom: 0;padding: 0.3em;box-sizing: border-box;text-align: center;}#sk-container-id-2 label.sk-toggleable__label-arrow:before {content: \"▸\";float: left;margin-right: 0.25em;color: #696969;}#sk-container-id-2 label.sk-toggleable__label-arrow:hover:before {color: black;}#sk-container-id-2 div.sk-estimator:hover label.sk-toggleable__label-arrow:before {color: black;}#sk-container-id-2 div.sk-toggleable__content {max-height: 0;max-width: 0;overflow: hidden;text-align: left;background-color: #f0f8ff;}#sk-container-id-2 div.sk-toggleable__content pre {margin: 0.2em;color: black;border-radius: 0.25em;background-color: #f0f8ff;}#sk-container-id-2 input.sk-toggleable__control:checked~div.sk-toggleable__content {max-height: 200px;max-width: 100%;overflow: auto;}#sk-container-id-2 input.sk-toggleable__control:checked~label.sk-toggleable__label-arrow:before {content: \"▾\";}#sk-container-id-2 div.sk-estimator input.sk-toggleable__control:checked~label.sk-toggleable__label {background-color: #d4ebff;}#sk-container-id-2 div.sk-label input.sk-toggleable__control:checked~label.sk-toggleable__label {background-color: #d4ebff;}#sk-container-id-2 input.sk-hidden--visually {border: 0;clip: rect(1px 1px 1px 1px);clip: rect(1px, 1px, 1px, 1px);height: 1px;margin: -1px;overflow: hidden;padding: 0;position: absolute;width: 1px;}#sk-container-id-2 div.sk-estimator {font-family: monospace;background-color: #f0f8ff;border: 1px dotted black;border-radius: 0.25em;box-sizing: border-box;margin-bottom: 0.5em;}#sk-container-id-2 div.sk-estimator:hover {background-color: #d4ebff;}#sk-container-id-2 div.sk-parallel-item::after {content: \"\";width: 100%;border-bottom: 1px solid gray;flex-grow: 1;}#sk-container-id-2 div.sk-label:hover label.sk-toggleable__label {background-color: #d4ebff;}#sk-container-id-2 div.sk-serial::before {content: \"\";position: absolute;border-left: 1px solid gray;box-sizing: border-box;top: 0;bottom: 0;left: 50%;z-index: 0;}#sk-container-id-2 div.sk-serial {display: flex;flex-direction: column;align-items: center;background-color: white;padding-right: 0.2em;padding-left: 0.2em;position: relative;}#sk-container-id-2 div.sk-item {position: relative;z-index: 1;}#sk-container-id-2 div.sk-parallel {display: flex;align-items: stretch;justify-content: center;background-color: white;position: relative;}#sk-container-id-2 div.sk-item::before, #sk-container-id-2 div.sk-parallel-item::before {content: \"\";position: absolute;border-left: 1px solid gray;box-sizing: border-box;top: 0;bottom: 0;left: 50%;z-index: -1;}#sk-container-id-2 div.sk-parallel-item {display: flex;flex-direction: column;z-index: 1;position: relative;background-color: white;}#sk-container-id-2 div.sk-parallel-item:first-child::after {align-self: flex-end;width: 50%;}#sk-container-id-2 div.sk-parallel-item:last-child::after {align-self: flex-start;width: 50%;}#sk-container-id-2 div.sk-parallel-item:only-child::after {width: 0;}#sk-container-id-2 div.sk-dashed-wrapped {border: 1px dashed gray;margin: 0 0.4em 0.5em 0.4em;box-sizing: border-box;padding-bottom: 0.4em;background-color: white;}#sk-container-id-2 div.sk-label label {font-family: monospace;font-weight: bold;display: inline-block;line-height: 1.2em;}#sk-container-id-2 div.sk-label-container {text-align: center;}#sk-container-id-2 div.sk-container {/* jupyter's `normalize.less` sets `[hidden] { display: none; }` but bootstrap.min.css set `[hidden] { display: none !important; }` so we also need the `!important` here to be able to override the default hidden behavior on the sphinx rendered scikit-learn.org. See: https://github.com/scikit-learn/scikit-learn/issues/21755 */display: inline-block !important;position: relative;}#sk-container-id-2 div.sk-text-repr-fallback {display: none;}</style><div id=\"sk-container-id-2\" class=\"sk-top-container\"><div class=\"sk-text-repr-fallback\"><pre>LogisticRegression(solver=&#x27;liblinear&#x27;)</pre><b>In a Jupyter environment, please rerun this cell to show the HTML representation or trust the notebook. <br />On GitHub, the HTML representation is unable to render, please try loading this page with nbviewer.org.</b></div><div class=\"sk-container\" hidden><div class=\"sk-item\"><div class=\"sk-estimator sk-toggleable\"><input class=\"sk-toggleable__control sk-hidden--visually\" id=\"sk-estimator-id-2\" type=\"checkbox\" checked><label for=\"sk-estimator-id-2\" class=\"sk-toggleable__label sk-toggleable__label-arrow\">LogisticRegression</label><div class=\"sk-toggleable__content\"><pre>LogisticRegression(solver=&#x27;liblinear&#x27;)</pre></div></div></div></div></div>"
      ],
      "text/plain": [
       "LogisticRegression(solver='liblinear')"
      ]
     },
     "execution_count": 52,
     "metadata": {},
     "output_type": "execute_result"
    }
   ],
   "source": [
    "log_reg_dur = LogisticRegression(solver='liblinear')\n",
    "log_reg_dur.fit(scaled_X_train_d, y_train_d)"
   ]
  },
  {
   "cell_type": "code",
   "execution_count": 53,
   "id": "6835fc87",
   "metadata": {},
   "outputs": [],
   "source": [
    "y_pred_d = log_reg_dur.predict(scaled_X_test_d)"
   ]
  },
  {
   "cell_type": "markdown",
   "id": "7912a995",
   "metadata": {},
   "source": [
    "#### Evaluating the Model with 'Duration' Included"
   ]
  },
  {
   "cell_type": "code",
   "execution_count": 54,
   "id": "e88ec5f6",
   "metadata": {},
   "outputs": [
    {
     "name": "stdout",
     "output_type": "stream",
     "text": [
      "Accuracy: 0.8998820406959599\n"
     ]
    }
   ],
   "source": [
    "#Accuracy Score\n",
    "print(\"Accuracy:\",metrics.accuracy_score(y_test_d, y_pred_d))"
   ]
  },
  {
   "cell_type": "code",
   "execution_count": 55,
   "id": "897a6212",
   "metadata": {},
   "outputs": [
    {
     "data": {
      "text/plain": [
       "array([[11657,   309],\n",
       "       [ 1049,   549]], dtype=int64)"
      ]
     },
     "execution_count": 55,
     "metadata": {},
     "output_type": "execute_result"
    }
   ],
   "source": [
    "#Confusion matrix\n",
    "conf_mat = metrics.confusion_matrix(y_test_d, y_pred_d)\n",
    "conf_mat"
   ]
  },
  {
   "cell_type": "code",
   "execution_count": 57,
   "id": "7d04b49b",
   "metadata": {},
   "outputs": [
    {
     "name": "stdout",
     "output_type": "stream",
     "text": [
      "              precision    recall  f1-score   support\n",
      "\n",
      "           0       0.92      0.97      0.94     11966\n",
      "           1       0.64      0.34      0.45      1598\n",
      "\n",
      "    accuracy                           0.90     13564\n",
      "   macro avg       0.78      0.66      0.70     13564\n",
      "weighted avg       0.88      0.90      0.89     13564\n",
      "\n"
     ]
    }
   ],
   "source": [
    "#Classification report\n",
    "print(metrics.classification_report(y_test_d, y_pred_d))"
   ]
  },
  {
   "cell_type": "markdown",
   "id": "0222b2a3",
   "metadata": {},
   "source": [
    "Both of the models are accurate at predicting 'no', but are not very accurate at predicting 'yes.' This could possibly be due to the fact that the dataset is highly imbalanced (more 'no' than 'yes'). This means that we should try out additional models to improve the accuracy."
   ]
  },
  {
   "cell_type": "markdown",
   "id": "61b7c739",
   "metadata": {},
   "source": [
    "### Random Forest"
   ]
  },
  {
   "cell_type": "markdown",
   "id": "ec52400d",
   "metadata": {},
   "source": [
    "#### Fitting and Training the Model, Making Predictions on the Testing Data"
   ]
  },
  {
   "cell_type": "code",
   "execution_count": 111,
   "id": "392fca2c",
   "metadata": {},
   "outputs": [],
   "source": [
    "forest = RandomForestClassifier(n_estimators=300, random_state=42)\n",
    "forest.fit(scaled_X_train, y_train)\n",
    "y_pred = forest.predict(scaled_X_test)"
   ]
  },
  {
   "cell_type": "markdown",
   "id": "e03032c5",
   "metadata": {},
   "source": [
    "#### Evaluating the Model"
   ]
  },
  {
   "cell_type": "code",
   "execution_count": 112,
   "id": "61de2ee8",
   "metadata": {},
   "outputs": [
    {
     "name": "stdout",
     "output_type": "stream",
     "text": [
      "Accuracy: 0.8929519315836036\n"
     ]
    }
   ],
   "source": [
    "#Accuracy Score\n",
    "print(\"Accuracy:\",metrics.accuracy_score(y_test, y_pred))"
   ]
  },
  {
   "cell_type": "code",
   "execution_count": 114,
   "id": "731a5d8d",
   "metadata": {},
   "outputs": [
    {
     "data": {
      "text/plain": [
       "array([[11721,   245],\n",
       "       [ 1207,   391]], dtype=int64)"
      ]
     },
     "execution_count": 114,
     "metadata": {},
     "output_type": "execute_result"
    }
   ],
   "source": [
    "conf_mat = metrics.confusion_matrix(y_test, y_pred)\n",
    "conf_mat"
   ]
  },
  {
   "cell_type": "code",
   "execution_count": 115,
   "id": "8594d04a",
   "metadata": {},
   "outputs": [
    {
     "data": {
      "image/png": "[encoded data removed]",
      "text/plain": [
       "<Figure size 432x288 with 2 Axes>"
      ]
     },
     "metadata": {},
     "output_type": "display_data"
    }
   ],
   "source": [
    "#Plotting heatmap of confusion matrix\n",
    "\n",
    "ax = plt.subplot()\n",
    "\n",
    "sns.heatmap(conf_mat/np.sum(conf_mat), annot=True, \n",
    "            fmt='.2%', cmap='Reds', ax = ax)\n",
    "\n",
    "ax.set_xlabel('Predicted labels');ax.set_ylabel('True labels'); \n",
    "ax.set_title('Confusion Matrix'); \n",
    "ax.xaxis.set_ticklabels(['No', 'Yes']); ax.yaxis.set_ticklabels(['No', 'Yes']);"
   ]
  },
  {
   "cell_type": "code",
   "execution_count": 61,
   "id": "236fa278",
   "metadata": {},
   "outputs": [
    {
     "name": "stdout",
     "output_type": "stream",
     "text": [
      "              precision    recall  f1-score   support\n",
      "\n",
      "           0       0.91      0.98      0.94     11966\n",
      "           1       0.61      0.24      0.35      1598\n",
      "\n",
      "    accuracy                           0.89     13564\n",
      "   macro avg       0.76      0.61      0.65     13564\n",
      "weighted avg       0.87      0.89      0.87     13564\n",
      "\n"
     ]
    }
   ],
   "source": [
    "#Classification report\n",
    "print(metrics.classification_report(y_test, y_pred))"
   ]
  },
  {
   "cell_type": "markdown",
   "id": "ec209075",
   "metadata": {},
   "source": [
    "#### Plotting Feature Importance"
   ]
  },
  {
   "cell_type": "code",
   "execution_count": 62,
   "id": "d4881057",
   "metadata": {},
   "outputs": [],
   "source": [
    "feature_names = pd.DataFrame(scaled_X_train.columns, columns = ['Feature'])\n",
    "forest_imp = pd.DataFrame(np.transpose(forest.feature_importances_), columns = ['Importance'])\n",
    "imp = pd.concat([feature_names, forest_imp], axis = 1)\n",
    "imp = imp.sort_values(by='Importance', ascending=False)"
   ]
  },
  {
   "cell_type": "code",
   "execution_count": 63,
   "id": "5193608e",
   "metadata": {},
   "outputs": [
    {
     "data": {
      "text/html": [
       "<div>\n",
       "<style scoped>\n",
       "    .dataframe tbody tr th:only-of-type {\n",
       "        vertical-align: middle;\n",
       "    }\n",
       "\n",
       "    .dataframe tbody tr th {\n",
       "        vertical-align: top;\n",
       "    }\n",
       "\n",
       "    .dataframe thead th {\n",
       "        text-align: right;\n",
       "    }\n",
       "</style>\n",
       "<table border=\"1\" class=\"dataframe\">\n",
       "  <thead>\n",
       "    <tr style=\"text-align: right;\">\n",
       "      <th></th>\n",
       "      <th>Feature</th>\n",
       "      <th>Importance</th>\n",
       "    </tr>\n",
       "  </thead>\n",
       "  <tbody>\n",
       "    <tr>\n",
       "      <th>1</th>\n",
       "      <td>balance</td>\n",
       "      <td>0.169358</td>\n",
       "    </tr>\n",
       "    <tr>\n",
       "      <th>0</th>\n",
       "      <td>age</td>\n",
       "      <td>0.147775</td>\n",
       "    </tr>\n",
       "    <tr>\n",
       "      <th>2</th>\n",
       "      <td>day</td>\n",
       "      <td>0.122475</td>\n",
       "    </tr>\n",
       "    <tr>\n",
       "      <th>3</th>\n",
       "      <td>campaign</td>\n",
       "      <td>0.062424</td>\n",
       "    </tr>\n",
       "    <tr>\n",
       "      <th>48</th>\n",
       "      <td>poutcome_success</td>\n",
       "      <td>0.049657</td>\n",
       "    </tr>\n",
       "    <tr>\n",
       "      <th>4</th>\n",
       "      <td>pdays</td>\n",
       "      <td>0.047790</td>\n",
       "    </tr>\n",
       "    <tr>\n",
       "      <th>5</th>\n",
       "      <td>previous</td>\n",
       "      <td>0.025717</td>\n",
       "    </tr>\n",
       "    <tr>\n",
       "      <th>22</th>\n",
       "      <td>education_secondary</td>\n",
       "      <td>0.014889</td>\n",
       "    </tr>\n",
       "    <tr>\n",
       "      <th>34</th>\n",
       "      <td>month_apr</td>\n",
       "      <td>0.013982</td>\n",
       "    </tr>\n",
       "    <tr>\n",
       "      <th>15</th>\n",
       "      <td>job_technician</td>\n",
       "      <td>0.013706</td>\n",
       "    </tr>\n",
       "    <tr>\n",
       "      <th>23</th>\n",
       "      <td>education_tertiary</td>\n",
       "      <td>0.013372</td>\n",
       "    </tr>\n",
       "    <tr>\n",
       "      <th>28</th>\n",
       "      <td>housing_yes</td>\n",
       "      <td>0.013311</td>\n",
       "    </tr>\n",
       "    <tr>\n",
       "      <th>10</th>\n",
       "      <td>job_management</td>\n",
       "      <td>0.012955</td>\n",
       "    </tr>\n",
       "    <tr>\n",
       "      <th>27</th>\n",
       "      <td>housing_no</td>\n",
       "      <td>0.012461</td>\n",
       "    </tr>\n",
       "    <tr>\n",
       "      <th>41</th>\n",
       "      <td>month_mar</td>\n",
       "      <td>0.012142</td>\n",
       "    </tr>\n",
       "    <tr>\n",
       "      <th>6</th>\n",
       "      <td>job_admin.</td>\n",
       "      <td>0.012009</td>\n",
       "    </tr>\n",
       "    <tr>\n",
       "      <th>19</th>\n",
       "      <td>marital_married</td>\n",
       "      <td>0.011811</td>\n",
       "    </tr>\n",
       "    <tr>\n",
       "      <th>44</th>\n",
       "      <td>month_oct</td>\n",
       "      <td>0.011364</td>\n",
       "    </tr>\n",
       "    <tr>\n",
       "      <th>40</th>\n",
       "      <td>month_jun</td>\n",
       "      <td>0.011305</td>\n",
       "    </tr>\n",
       "    <tr>\n",
       "      <th>20</th>\n",
       "      <td>marital_single</td>\n",
       "      <td>0.011079</td>\n",
       "    </tr>\n",
       "    <tr>\n",
       "      <th>7</th>\n",
       "      <td>job_blue-collar</td>\n",
       "      <td>0.010970</td>\n",
       "    </tr>\n",
       "    <tr>\n",
       "      <th>35</th>\n",
       "      <td>month_aug</td>\n",
       "      <td>0.010420</td>\n",
       "    </tr>\n",
       "    <tr>\n",
       "      <th>42</th>\n",
       "      <td>month_may</td>\n",
       "      <td>0.010185</td>\n",
       "    </tr>\n",
       "    <tr>\n",
       "      <th>31</th>\n",
       "      <td>contact_cellular</td>\n",
       "      <td>0.009681</td>\n",
       "    </tr>\n",
       "    <tr>\n",
       "      <th>39</th>\n",
       "      <td>month_jul</td>\n",
       "      <td>0.009672</td>\n",
       "    </tr>\n",
       "    <tr>\n",
       "      <th>46</th>\n",
       "      <td>poutcome_failure</td>\n",
       "      <td>0.009504</td>\n",
       "    </tr>\n",
       "    <tr>\n",
       "      <th>21</th>\n",
       "      <td>education_primary</td>\n",
       "      <td>0.009163</td>\n",
       "    </tr>\n",
       "    <tr>\n",
       "      <th>33</th>\n",
       "      <td>contact_unknown</td>\n",
       "      <td>0.009039</td>\n",
       "    </tr>\n",
       "    <tr>\n",
       "      <th>13</th>\n",
       "      <td>job_services</td>\n",
       "      <td>0.008772</td>\n",
       "    </tr>\n",
       "    <tr>\n",
       "      <th>43</th>\n",
       "      <td>month_nov</td>\n",
       "      <td>0.008712</td>\n",
       "    </tr>\n",
       "    <tr>\n",
       "      <th>18</th>\n",
       "      <td>marital_divorced</td>\n",
       "      <td>0.008698</td>\n",
       "    </tr>\n",
       "    <tr>\n",
       "      <th>37</th>\n",
       "      <td>month_feb</td>\n",
       "      <td>0.008692</td>\n",
       "    </tr>\n",
       "    <tr>\n",
       "      <th>45</th>\n",
       "      <td>month_sep</td>\n",
       "      <td>0.008586</td>\n",
       "    </tr>\n",
       "    <tr>\n",
       "      <th>49</th>\n",
       "      <td>poutcome_unknown</td>\n",
       "      <td>0.007978</td>\n",
       "    </tr>\n",
       "    <tr>\n",
       "      <th>30</th>\n",
       "      <td>loan_yes</td>\n",
       "      <td>0.007606</td>\n",
       "    </tr>\n",
       "    <tr>\n",
       "      <th>29</th>\n",
       "      <td>loan_no</td>\n",
       "      <td>0.007576</td>\n",
       "    </tr>\n",
       "    <tr>\n",
       "      <th>12</th>\n",
       "      <td>job_self-employed</td>\n",
       "      <td>0.006429</td>\n",
       "    </tr>\n",
       "    <tr>\n",
       "      <th>24</th>\n",
       "      <td>education_unknown</td>\n",
       "      <td>0.006347</td>\n",
       "    </tr>\n",
       "    <tr>\n",
       "      <th>16</th>\n",
       "      <td>job_unemployed</td>\n",
       "      <td>0.006133</td>\n",
       "    </tr>\n",
       "    <tr>\n",
       "      <th>11</th>\n",
       "      <td>job_retired</td>\n",
       "      <td>0.006132</td>\n",
       "    </tr>\n",
       "    <tr>\n",
       "      <th>47</th>\n",
       "      <td>poutcome_other</td>\n",
       "      <td>0.005586</td>\n",
       "    </tr>\n",
       "    <tr>\n",
       "      <th>38</th>\n",
       "      <td>month_jan</td>\n",
       "      <td>0.005437</td>\n",
       "    </tr>\n",
       "    <tr>\n",
       "      <th>32</th>\n",
       "      <td>contact_telephone</td>\n",
       "      <td>0.005307</td>\n",
       "    </tr>\n",
       "    <tr>\n",
       "      <th>14</th>\n",
       "      <td>job_student</td>\n",
       "      <td>0.005083</td>\n",
       "    </tr>\n",
       "    <tr>\n",
       "      <th>8</th>\n",
       "      <td>job_entrepreneur</td>\n",
       "      <td>0.005004</td>\n",
       "    </tr>\n",
       "    <tr>\n",
       "      <th>36</th>\n",
       "      <td>month_dec</td>\n",
       "      <td>0.004562</td>\n",
       "    </tr>\n",
       "    <tr>\n",
       "      <th>9</th>\n",
       "      <td>job_housemaid</td>\n",
       "      <td>0.004012</td>\n",
       "    </tr>\n",
       "    <tr>\n",
       "      <th>26</th>\n",
       "      <td>default_yes</td>\n",
       "      <td>0.001824</td>\n",
       "    </tr>\n",
       "    <tr>\n",
       "      <th>25</th>\n",
       "      <td>default_no</td>\n",
       "      <td>0.001821</td>\n",
       "    </tr>\n",
       "    <tr>\n",
       "      <th>17</th>\n",
       "      <td>job_unknown</td>\n",
       "      <td>0.001488</td>\n",
       "    </tr>\n",
       "  </tbody>\n",
       "</table>\n",
       "</div>"
      ],
      "text/plain": [
       "                Feature  Importance\n",
       "1               balance    0.169358\n",
       "0                   age    0.147775\n",
       "2                   day    0.122475\n",
       "3              campaign    0.062424\n",
       "48     poutcome_success    0.049657\n",
       "4                 pdays    0.047790\n",
       "5              previous    0.025717\n",
       "22  education_secondary    0.014889\n",
       "34            month_apr    0.013982\n",
       "15       job_technician    0.013706\n",
       "23   education_tertiary    0.013372\n",
       "28          housing_yes    0.013311\n",
       "10       job_management    0.012955\n",
       "27           housing_no    0.012461\n",
       "41            month_mar    0.012142\n",
       "6            job_admin.    0.012009\n",
       "19      marital_married    0.011811\n",
       "44            month_oct    0.011364\n",
       "40            month_jun    0.011305\n",
       "20       marital_single    0.011079\n",
       "7       job_blue-collar    0.010970\n",
       "35            month_aug    0.010420\n",
       "42            month_may    0.010185\n",
       "31     contact_cellular    0.009681\n",
       "39            month_jul    0.009672\n",
       "46     poutcome_failure    0.009504\n",
       "21    education_primary    0.009163\n",
       "33      contact_unknown    0.009039\n",
       "13         job_services    0.008772\n",
       "43            month_nov    0.008712\n",
       "18     marital_divorced    0.008698\n",
       "37            month_feb    0.008692\n",
       "45            month_sep    0.008586\n",
       "49     poutcome_unknown    0.007978\n",
       "30             loan_yes    0.007606\n",
       "29              loan_no    0.007576\n",
       "12    job_self-employed    0.006429\n",
       "24    education_unknown    0.006347\n",
       "16       job_unemployed    0.006133\n",
       "11          job_retired    0.006132\n",
       "47       poutcome_other    0.005586\n",
       "38            month_jan    0.005437\n",
       "32    contact_telephone    0.005307\n",
       "14          job_student    0.005083\n",
       "8      job_entrepreneur    0.005004\n",
       "36            month_dec    0.004562\n",
       "9         job_housemaid    0.004012\n",
       "26          default_yes    0.001824\n",
       "25           default_no    0.001821\n",
       "17          job_unknown    0.001488"
      ]
     },
     "execution_count": 63,
     "metadata": {},
     "output_type": "execute_result"
    }
   ],
   "source": [
    "imp"
   ]
  },
  {
   "cell_type": "markdown",
   "id": "33354327",
   "metadata": {},
   "source": [
    "#### Visualizing Feature Importance"
   ]
  },
  {
   "cell_type": "code",
   "execution_count": 64,
   "id": "73e88cbf",
   "metadata": {},
   "outputs": [
    {
     "data": {
      "image/png": "[encoded data removed]",
      "text/plain": [
       "<Figure size 432x288 with 1 Axes>"
      ]
     },
     "metadata": {},
     "output_type": "display_data"
    },
    {
     "data": {
      "text/plain": [
       "<Figure size 1008x864 with 0 Axes>"
      ]
     },
     "metadata": {},
     "output_type": "display_data"
    }
   ],
   "source": [
    "#10 Most Important Features\n",
    "sns.set_style(\"whitegrid\")\n",
    "plt.barh(imp['Feature'].head(10),imp['Importance'].head(10),color = sns.color_palette('ocean_r'))\n",
    "plt.title('Top 10 Most Important Features for Predicting Whether A Client Will Subscribe',fontsize=14)\n",
    "plt.ylabel('Feature',fontsize=14)\n",
    "plt.xlabel('GINI Coefficient',fontsize=14)\n",
    "plt.figure(figsize=(14,12))\n",
    "plt.show()"
   ]
  },
  {
   "cell_type": "markdown",
   "id": "1ad8e08e",
   "metadata": {},
   "source": [
    "### Random Forest Model with Duration Included"
   ]
  },
  {
   "cell_type": "markdown",
   "id": "2228ac1f",
   "metadata": {},
   "source": [
    "#### Fitting and Training the Model, Making Predictions on the Testing Data"
   ]
  },
  {
   "cell_type": "code",
   "execution_count": 65,
   "id": "49167b7c",
   "metadata": {},
   "outputs": [
    {
     "data": {
      "text/html": [
       "<style>#sk-container-id-3 {color: black;background-color: white;}#sk-container-id-3 pre{padding: 0;}#sk-container-id-3 div.sk-toggleable {background-color: white;}#sk-container-id-3 label.sk-toggleable__label {cursor: pointer;display: block;width: 100%;margin-bottom: 0;padding: 0.3em;box-sizing: border-box;text-align: center;}#sk-container-id-3 label.sk-toggleable__label-arrow:before {content: \"▸\";float: left;margin-right: 0.25em;color: #696969;}#sk-container-id-3 label.sk-toggleable__label-arrow:hover:before {color: black;}#sk-container-id-3 div.sk-estimator:hover label.sk-toggleable__label-arrow:before {color: black;}#sk-container-id-3 div.sk-toggleable__content {max-height: 0;max-width: 0;overflow: hidden;text-align: left;background-color: #f0f8ff;}#sk-container-id-3 div.sk-toggleable__content pre {margin: 0.2em;color: black;border-radius: 0.25em;background-color: #f0f8ff;}#sk-container-id-3 input.sk-toggleable__control:checked~div.sk-toggleable__content {max-height: 200px;max-width: 100%;overflow: auto;}#sk-container-id-3 input.sk-toggleable__control:checked~label.sk-toggleable__label-arrow:before {content: \"▾\";}#sk-container-id-3 div.sk-estimator input.sk-toggleable__control:checked~label.sk-toggleable__label {background-color: #d4ebff;}#sk-container-id-3 div.sk-label input.sk-toggleable__control:checked~label.sk-toggleable__label {background-color: #d4ebff;}#sk-container-id-3 input.sk-hidden--visually {border: 0;clip: rect(1px 1px 1px 1px);clip: rect(1px, 1px, 1px, 1px);height: 1px;margin: -1px;overflow: hidden;padding: 0;position: absolute;width: 1px;}#sk-container-id-3 div.sk-estimator {font-family: monospace;background-color: #f0f8ff;border: 1px dotted black;border-radius: 0.25em;box-sizing: border-box;margin-bottom: 0.5em;}#sk-container-id-3 div.sk-estimator:hover {background-color: #d4ebff;}#sk-container-id-3 div.sk-parallel-item::after {content: \"\";width: 100%;border-bottom: 1px solid gray;flex-grow: 1;}#sk-container-id-3 div.sk-label:hover label.sk-toggleable__label {background-color: #d4ebff;}#sk-container-id-3 div.sk-serial::before {content: \"\";position: absolute;border-left: 1px solid gray;box-sizing: border-box;top: 0;bottom: 0;left: 50%;z-index: 0;}#sk-container-id-3 div.sk-serial {display: flex;flex-direction: column;align-items: center;background-color: white;padding-right: 0.2em;padding-left: 0.2em;position: relative;}#sk-container-id-3 div.sk-item {position: relative;z-index: 1;}#sk-container-id-3 div.sk-parallel {display: flex;align-items: stretch;justify-content: center;background-color: white;position: relative;}#sk-container-id-3 div.sk-item::before, #sk-container-id-3 div.sk-parallel-item::before {content: \"\";position: absolute;border-left: 1px solid gray;box-sizing: border-box;top: 0;bottom: 0;left: 50%;z-index: -1;}#sk-container-id-3 div.sk-parallel-item {display: flex;flex-direction: column;z-index: 1;position: relative;background-color: white;}#sk-container-id-3 div.sk-parallel-item:first-child::after {align-self: flex-end;width: 50%;}#sk-container-id-3 div.sk-parallel-item:last-child::after {align-self: flex-start;width: 50%;}#sk-container-id-3 div.sk-parallel-item:only-child::after {width: 0;}#sk-container-id-3 div.sk-dashed-wrapped {border: 1px dashed gray;margin: 0 0.4em 0.5em 0.4em;box-sizing: border-box;padding-bottom: 0.4em;background-color: white;}#sk-container-id-3 div.sk-label label {font-family: monospace;font-weight: bold;display: inline-block;line-height: 1.2em;}#sk-container-id-3 div.sk-label-container {text-align: center;}#sk-container-id-3 div.sk-container {/* jupyter's `normalize.less` sets `[hidden] { display: none; }` but bootstrap.min.css set `[hidden] { display: none !important; }` so we also need the `!important` here to be able to override the default hidden behavior on the sphinx rendered scikit-learn.org. See: https://github.com/scikit-learn/scikit-learn/issues/21755 */display: inline-block !important;position: relative;}#sk-container-id-3 div.sk-text-repr-fallback {display: none;}</style><div id=\"sk-container-id-3\" class=\"sk-top-container\"><div class=\"sk-text-repr-fallback\"><pre>RandomForestClassifier(n_estimators=300, random_state=42)</pre><b>In a Jupyter environment, please rerun this cell to show the HTML representation or trust the notebook. <br />On GitHub, the HTML representation is unable to render, please try loading this page with nbviewer.org.</b></div><div class=\"sk-container\" hidden><div class=\"sk-item\"><div class=\"sk-estimator sk-toggleable\"><input class=\"sk-toggleable__control sk-hidden--visually\" id=\"sk-estimator-id-3\" type=\"checkbox\" checked><label for=\"sk-estimator-id-3\" class=\"sk-toggleable__label sk-toggleable__label-arrow\">RandomForestClassifier</label><div class=\"sk-toggleable__content\"><pre>RandomForestClassifier(n_estimators=300, random_state=42)</pre></div></div></div></div></div>"
      ],
      "text/plain": [
       "RandomForestClassifier(n_estimators=300, random_state=42)"
      ]
     },
     "execution_count": 65,
     "metadata": {},
     "output_type": "execute_result"
    }
   ],
   "source": [
    "forest_d = RandomForestClassifier(n_estimators=300, random_state=42)\n",
    "forest_d.fit(scaled_X_train_d, y_train_d)"
   ]
  },
  {
   "cell_type": "code",
   "execution_count": 66,
   "id": "e5738897",
   "metadata": {},
   "outputs": [],
   "source": [
    "y_pred = forest_d.predict(scaled_X_test_d)"
   ]
  },
  {
   "cell_type": "markdown",
   "id": "251ddec6",
   "metadata": {},
   "source": [
    "#### Evaluating the Model"
   ]
  },
  {
   "cell_type": "code",
   "execution_count": 67,
   "id": "e45706ee",
   "metadata": {},
   "outputs": [
    {
     "data": {
      "text/plain": [
       "0.90555883220289"
      ]
     },
     "execution_count": 67,
     "metadata": {},
     "output_type": "execute_result"
    }
   ],
   "source": [
    "#Checking accuracy score\n",
    "forest_d.score(scaled_X_test_d, y_test_d)"
   ]
  },
  {
   "cell_type": "code",
   "execution_count": 68,
   "id": "16c4ff0b",
   "metadata": {},
   "outputs": [
    {
     "data": {
      "text/plain": [
       "array([[11657,   309],\n",
       "       [ 1049,   549]], dtype=int64)"
      ]
     },
     "execution_count": 68,
     "metadata": {},
     "output_type": "execute_result"
    }
   ],
   "source": [
    "#Confusion matrix\n",
    "conf_mat = metrics.confusion_matrix(y_test_d, y_pred_d)\n",
    "conf_mat"
   ]
  },
  {
   "cell_type": "code",
   "execution_count": 69,
   "id": "db441085",
   "metadata": {},
   "outputs": [
    {
     "name": "stdout",
     "output_type": "stream",
     "text": [
      "              precision    recall  f1-score   support\n",
      "\n",
      "           0       0.92      0.97      0.94     11966\n",
      "           1       0.64      0.34      0.45      1598\n",
      "\n",
      "    accuracy                           0.90     13564\n",
      "   macro avg       0.78      0.66      0.70     13564\n",
      "weighted avg       0.88      0.90      0.89     13564\n",
      "\n"
     ]
    }
   ],
   "source": [
    "#Classification report\n",
    "print(metrics.classification_report(y_test_d, y_pred_d))"
   ]
  },
  {
   "cell_type": "markdown",
   "id": "2cc520eb",
   "metadata": {},
   "source": []
  },
  {
   "cell_type": "markdown",
   "id": "a608bda9",
   "metadata": {},
   "source": [
    "### Naive Bayes Classifier"
   ]
  },
  {
   "cell_type": "markdown",
   "id": "066d2829",
   "metadata": {},
   "source": [
    "#### Fitting and Training the Model, Making Predictions on the Testing Data"
   ]
  },
  {
   "cell_type": "code",
   "execution_count": null,
   "id": "af24552c",
   "metadata": {},
   "outputs": [],
   "source": [
    "nb = GaussianNB()"
   ]
  },
  {
   "cell_type": "code",
   "execution_count": null,
   "id": "f77b31f4",
   "metadata": {},
   "outputs": [],
   "source": [
    "nb.fit(scaled_X_train,y_train)"
   ]
  },
  {
   "cell_type": "code",
   "execution_count": 49,
   "id": "03327085",
   "metadata": {},
   "outputs": [],
   "source": [
    "y_pred = nb.predict(scaled_X_test)"
   ]
  },
  {
   "cell_type": "markdown",
   "id": "f2e63f58",
   "metadata": {},
   "source": [
    "#### Evaluating the Model"
   ]
  },
  {
   "cell_type": "code",
   "execution_count": 50,
   "id": "05cf9c18",
   "metadata": {},
   "outputs": [
    {
     "name": "stdout",
     "output_type": "stream",
     "text": [
      "Accuracy: 0.8372898849896786\n"
     ]
    }
   ],
   "source": [
    "#Accuracy Score\n",
    "print(\"Accuracy:\",metrics.accuracy_score(y_test, y_pred))"
   ]
  },
  {
   "cell_type": "code",
   "execution_count": 51,
   "id": "3b055814",
   "metadata": {},
   "outputs": [
    {
     "data": {
      "text/plain": [
       "array([[10635,  1331],\n",
       "       [  876,   722]], dtype=int64)"
      ]
     },
     "execution_count": 51,
     "metadata": {},
     "output_type": "execute_result"
    }
   ],
   "source": [
    "#Confusion matrix\n",
    "conf_mat_nb = metrics.confusion_matrix(y_test, y_pred)\n",
    "conf_mat_nb"
   ]
  },
  {
   "cell_type": "code",
   "execution_count": 52,
   "id": "16696163",
   "metadata": {},
   "outputs": [
    {
     "name": "stdout",
     "output_type": "stream",
     "text": [
      "              precision    recall  f1-score   support\n",
      "\n",
      "           0       0.92      0.89      0.91     11966\n",
      "           1       0.35      0.45      0.40      1598\n",
      "\n",
      "    accuracy                           0.84     13564\n",
      "   macro avg       0.64      0.67      0.65     13564\n",
      "weighted avg       0.86      0.84      0.85     13564\n",
      "\n"
     ]
    }
   ],
   "source": [
    "#Classification report\n",
    "print(metrics.classification_report(y_test, y_pred))"
   ]
  },
  {
   "cell_type": "markdown",
   "id": "dc121871",
   "metadata": {},
   "source": [
    "### Naive Bayes Classifier with Duration Included"
   ]
  },
  {
   "cell_type": "markdown",
   "id": "34ce0a65",
   "metadata": {},
   "source": [
    "#### Fitting and Training the Model, Making Predictions on the Testing Data"
   ]
  },
  {
   "cell_type": "code",
   "execution_count": 53,
   "id": "90a4532d",
   "metadata": {},
   "outputs": [
    {
     "data": {
      "text/html": [
       "<style>#sk-container-id-4 {color: black;background-color: white;}#sk-container-id-4 pre{padding: 0;}#sk-container-id-4 div.sk-toggleable {background-color: white;}#sk-container-id-4 label.sk-toggleable__label {cursor: pointer;display: block;width: 100%;margin-bottom: 0;padding: 0.3em;box-sizing: border-box;text-align: center;}#sk-container-id-4 label.sk-toggleable__label-arrow:before {content: \"▸\";float: left;margin-right: 0.25em;color: #696969;}#sk-container-id-4 label.sk-toggleable__label-arrow:hover:before {color: black;}#sk-container-id-4 div.sk-estimator:hover label.sk-toggleable__label-arrow:before {color: black;}#sk-container-id-4 div.sk-toggleable__content {max-height: 0;max-width: 0;overflow: hidden;text-align: left;background-color: #f0f8ff;}#sk-container-id-4 div.sk-toggleable__content pre {margin: 0.2em;color: black;border-radius: 0.25em;background-color: #f0f8ff;}#sk-container-id-4 input.sk-toggleable__control:checked~div.sk-toggleable__content {max-height: 200px;max-width: 100%;overflow: auto;}#sk-container-id-4 input.sk-toggleable__control:checked~label.sk-toggleable__label-arrow:before {content: \"▾\";}#sk-container-id-4 div.sk-estimator input.sk-toggleable__control:checked~label.sk-toggleable__label {background-color: #d4ebff;}#sk-container-id-4 div.sk-label input.sk-toggleable__control:checked~label.sk-toggleable__label {background-color: #d4ebff;}#sk-container-id-4 input.sk-hidden--visually {border: 0;clip: rect(1px 1px 1px 1px);clip: rect(1px, 1px, 1px, 1px);height: 1px;margin: -1px;overflow: hidden;padding: 0;position: absolute;width: 1px;}#sk-container-id-4 div.sk-estimator {font-family: monospace;background-color: #f0f8ff;border: 1px dotted black;border-radius: 0.25em;box-sizing: border-box;margin-bottom: 0.5em;}#sk-container-id-4 div.sk-estimator:hover {background-color: #d4ebff;}#sk-container-id-4 div.sk-parallel-item::after {content: \"\";width: 100%;border-bottom: 1px solid gray;flex-grow: 1;}#sk-container-id-4 div.sk-label:hover label.sk-toggleable__label {background-color: #d4ebff;}#sk-container-id-4 div.sk-serial::before {content: \"\";position: absolute;border-left: 1px solid gray;box-sizing: border-box;top: 0;bottom: 0;left: 50%;z-index: 0;}#sk-container-id-4 div.sk-serial {display: flex;flex-direction: column;align-items: center;background-color: white;padding-right: 0.2em;padding-left: 0.2em;position: relative;}#sk-container-id-4 div.sk-item {position: relative;z-index: 1;}#sk-container-id-4 div.sk-parallel {display: flex;align-items: stretch;justify-content: center;background-color: white;position: relative;}#sk-container-id-4 div.sk-item::before, #sk-container-id-4 div.sk-parallel-item::before {content: \"\";position: absolute;border-left: 1px solid gray;box-sizing: border-box;top: 0;bottom: 0;left: 50%;z-index: -1;}#sk-container-id-4 div.sk-parallel-item {display: flex;flex-direction: column;z-index: 1;position: relative;background-color: white;}#sk-container-id-4 div.sk-parallel-item:first-child::after {align-self: flex-end;width: 50%;}#sk-container-id-4 div.sk-parallel-item:last-child::after {align-self: flex-start;width: 50%;}#sk-container-id-4 div.sk-parallel-item:only-child::after {width: 0;}#sk-container-id-4 div.sk-dashed-wrapped {border: 1px dashed gray;margin: 0 0.4em 0.5em 0.4em;box-sizing: border-box;padding-bottom: 0.4em;background-color: white;}#sk-container-id-4 div.sk-label label {font-family: monospace;font-weight: bold;display: inline-block;line-height: 1.2em;}#sk-container-id-4 div.sk-label-container {text-align: center;}#sk-container-id-4 div.sk-container {/* jupyter's `normalize.less` sets `[hidden] { display: none; }` but bootstrap.min.css set `[hidden] { display: none !important; }` so we also need the `!important` here to be able to override the default hidden behavior on the sphinx rendered scikit-learn.org. See: https://github.com/scikit-learn/scikit-learn/issues/21755 */display: inline-block !important;position: relative;}#sk-container-id-4 div.sk-text-repr-fallback {display: none;}</style><div id=\"sk-container-id-4\" class=\"sk-top-container\"><div class=\"sk-text-repr-fallback\"><pre>GaussianNB()</pre><b>In a Jupyter environment, please rerun this cell to show the HTML representation or trust the notebook. <br />On GitHub, the HTML representation is unable to render, please try loading this page with nbviewer.org.</b></div><div class=\"sk-container\" hidden><div class=\"sk-item\"><div class=\"sk-estimator sk-toggleable\"><input class=\"sk-toggleable__control sk-hidden--visually\" id=\"sk-estimator-id-4\" type=\"checkbox\" checked><label for=\"sk-estimator-id-4\" class=\"sk-toggleable__label sk-toggleable__label-arrow\">GaussianNB</label><div class=\"sk-toggleable__content\"><pre>GaussianNB()</pre></div></div></div></div></div>"
      ],
      "text/plain": [
       "GaussianNB()"
      ]
     },
     "execution_count": 53,
     "metadata": {},
     "output_type": "execute_result"
    }
   ],
   "source": [
    "nb.fit(scaled_X_train_d,y_train_d)"
   ]
  },
  {
   "cell_type": "code",
   "execution_count": 54,
   "id": "ce0e0ea1",
   "metadata": {},
   "outputs": [],
   "source": [
    "y_pred = nb.predict(scaled_X_test_d)"
   ]
  },
  {
   "cell_type": "markdown",
   "id": "0bde0354",
   "metadata": {},
   "source": [
    "#### Evaluating the Model"
   ]
  },
  {
   "cell_type": "code",
   "execution_count": 55,
   "id": "342d6401",
   "metadata": {},
   "outputs": [
    {
     "name": "stdout",
     "output_type": "stream",
     "text": [
      "Accuracy: 0.8470952521380124\n"
     ]
    }
   ],
   "source": [
    "#Accuracy Score\n",
    "print(\"Accuracy:\",metrics.accuracy_score(y_test, y_pred))"
   ]
  },
  {
   "cell_type": "code",
   "execution_count": 56,
   "id": "9d63191f",
   "metadata": {},
   "outputs": [
    {
     "data": {
      "text/plain": [
       "array([[10679,  1287],\n",
       "       [  787,   811]], dtype=int64)"
      ]
     },
     "execution_count": 56,
     "metadata": {},
     "output_type": "execute_result"
    }
   ],
   "source": [
    "#Confusion matrix\n",
    "conf_mat_nb = metrics.confusion_matrix(y_test, y_pred)\n",
    "conf_mat_nb"
   ]
  },
  {
   "cell_type": "code",
   "execution_count": 57,
   "id": "470bcf2b",
   "metadata": {},
   "outputs": [
    {
     "name": "stdout",
     "output_type": "stream",
     "text": [
      "              precision    recall  f1-score   support\n",
      "\n",
      "           0       0.93      0.89      0.91     11966\n",
      "           1       0.39      0.51      0.44      1598\n",
      "\n",
      "    accuracy                           0.85     13564\n",
      "   macro avg       0.66      0.70      0.68     13564\n",
      "weighted avg       0.87      0.85      0.86     13564\n",
      "\n"
     ]
    }
   ],
   "source": [
    "#Classification report\n",
    "print(metrics.classification_report(y_test, y_pred))"
   ]
  },
  {
   "cell_type": "markdown",
   "id": "d726070d",
   "metadata": {},
   "source": [
    "### Artificial Neural Network (Multi-Layer Perceptron)"
   ]
  },
  {
   "cell_type": "markdown",
   "id": "8509ceda",
   "metadata": {},
   "source": [
    "#### Fitting and Training the Model, Making Predictions on the Testing Data"
   ]
  },
  {
   "cell_type": "code",
   "execution_count": 72,
   "id": "a303e4b6",
   "metadata": {},
   "outputs": [],
   "source": [
    "model = keras.Sequential()"
   ]
  },
  {
   "cell_type": "code",
   "execution_count": 73,
   "id": "1f58f3c4",
   "metadata": {},
   "outputs": [],
   "source": [
    "#Input layer/First hidden layer\n",
    "model.add(Dense(units=10, input_dim=50, kernel_initializer='uniform', activation='relu'))"
   ]
  },
  {
   "cell_type": "code",
   "execution_count": 74,
   "id": "d1e9ec98",
   "metadata": {},
   "outputs": [],
   "source": [
    "#Second hidden layer\n",
    "model.add(Dense(units=6, kernel_initializer='uniform', activation='relu')) "
   ]
  },
  {
   "cell_type": "code",
   "execution_count": 75,
   "id": "63895ae9",
   "metadata": {},
   "outputs": [],
   "source": [
    "#Output layer\n",
    "model.add(Dense(units=1, kernel_initializer='uniform', activation='sigmoid'))"
   ]
  },
  {
   "cell_type": "code",
   "execution_count": 76,
   "id": "d18f4fd7",
   "metadata": {},
   "outputs": [],
   "source": [
    "model.compile(optimizer='adam', loss='binary_crossentropy', metrics=['accuracy'])"
   ]
  },
  {
   "cell_type": "code",
   "execution_count": 77,
   "id": "b607d89c",
   "metadata": {},
   "outputs": [
    {
     "name": "stdout",
     "output_type": "stream",
     "text": [
      "Epoch 1/50\n",
      "3165/3165 [==============================] - 4s 1ms/step - loss: 0.3192 - accuracy: 0.8849\n",
      "Epoch 2/50\n",
      "3165/3165 [==============================] - 3s 1ms/step - loss: 0.3015 - accuracy: 0.8929\n",
      "Epoch 3/50\n",
      "3165/3165 [==============================] - 4s 1ms/step - loss: 0.2996 - accuracy: 0.8924\n",
      "Epoch 4/50\n",
      "3165/3165 [==============================] - 4s 1ms/step - loss: 0.2981 - accuracy: 0.8926\n",
      "Epoch 5/50\n",
      "3165/3165 [==============================] - 4s 1ms/step - loss: 0.2969 - accuracy: 0.8918\n",
      "Epoch 6/50\n",
      "3165/3165 [==============================] - 4s 1ms/step - loss: 0.2959 - accuracy: 0.8928\n",
      "Epoch 7/50\n",
      "3165/3165 [==============================] - 4s 1ms/step - loss: 0.2950 - accuracy: 0.8934\n",
      "Epoch 8/50\n",
      "3165/3165 [==============================] - 4s 1ms/step - loss: 0.2939 - accuracy: 0.8928\n",
      "Epoch 9/50\n",
      "3165/3165 [==============================] - 4s 1ms/step - loss: 0.2926 - accuracy: 0.8936\n",
      "Epoch 10/50\n",
      "3165/3165 [==============================] - 4s 1ms/step - loss: 0.2920 - accuracy: 0.8936\n",
      "Epoch 11/50\n",
      "3165/3165 [==============================] - 4s 1ms/step - loss: 0.2912 - accuracy: 0.8933\n",
      "Epoch 12/50\n",
      "3165/3165 [==============================] - 4s 1ms/step - loss: 0.2905 - accuracy: 0.8939\n",
      "Epoch 13/50\n",
      "3165/3165 [==============================] - 4s 1ms/step - loss: 0.2904 - accuracy: 0.8934\n",
      "Epoch 14/50\n",
      "3165/3165 [==============================] - 4s 1ms/step - loss: 0.2894 - accuracy: 0.8937\n",
      "Epoch 15/50\n",
      "3165/3165 [==============================] - 4s 1ms/step - loss: 0.2891 - accuracy: 0.8933\n",
      "Epoch 16/50\n",
      "3165/3165 [==============================] - 4s 1ms/step - loss: 0.2885 - accuracy: 0.8939\n",
      "Epoch 17/50\n",
      "3165/3165 [==============================] - 4s 1ms/step - loss: 0.2880 - accuracy: 0.8942\n",
      "Epoch 18/50\n",
      "3165/3165 [==============================] - 4s 1ms/step - loss: 0.2875 - accuracy: 0.8941\n",
      "Epoch 19/50\n",
      "3165/3165 [==============================] - 3s 1ms/step - loss: 0.2871 - accuracy: 0.8941\n",
      "Epoch 20/50\n",
      "3165/3165 [==============================] - 3s 1ms/step - loss: 0.2867 - accuracy: 0.8952\n",
      "Epoch 21/50\n",
      "3165/3165 [==============================] - 3s 1ms/step - loss: 0.2865 - accuracy: 0.8947\n",
      "Epoch 22/50\n",
      "3165/3165 [==============================] - 3s 1ms/step - loss: 0.2862 - accuracy: 0.8951\n",
      "Epoch 23/50\n",
      "3165/3165 [==============================] - 4s 1ms/step - loss: 0.2857 - accuracy: 0.8942\n",
      "Epoch 24/50\n",
      "3165/3165 [==============================] - 4s 1ms/step - loss: 0.2853 - accuracy: 0.8951\n",
      "Epoch 25/50\n",
      "3165/3165 [==============================] - 4s 1ms/step - loss: 0.2851 - accuracy: 0.8951\n",
      "Epoch 26/50\n",
      "3165/3165 [==============================] - 3s 1ms/step - loss: 0.2850 - accuracy: 0.8952\n",
      "Epoch 27/50\n",
      "3165/3165 [==============================] - 3s 1ms/step - loss: 0.2849 - accuracy: 0.8959\n",
      "Epoch 28/50\n",
      "3165/3165 [==============================] - 3s 1ms/step - loss: 0.2847 - accuracy: 0.8953\n",
      "Epoch 29/50\n",
      "3165/3165 [==============================] - 3s 1ms/step - loss: 0.2846 - accuracy: 0.8958\n",
      "Epoch 30/50\n",
      "3165/3165 [==============================] - 3s 1ms/step - loss: 0.2845 - accuracy: 0.8959\n",
      "Epoch 31/50\n",
      "3165/3165 [==============================] - 3s 1ms/step - loss: 0.2841 - accuracy: 0.8963\n",
      "Epoch 32/50\n",
      "3165/3165 [==============================] - 3s 1ms/step - loss: 0.2840 - accuracy: 0.8964\n",
      "Epoch 33/50\n",
      "3165/3165 [==============================] - 3s 1ms/step - loss: 0.2841 - accuracy: 0.8974\n",
      "Epoch 34/50\n",
      "3165/3165 [==============================] - 3s 1ms/step - loss: 0.2837 - accuracy: 0.8970\n",
      "Epoch 35/50\n",
      "3165/3165 [==============================] - 3s 1ms/step - loss: 0.2836 - accuracy: 0.8960\n",
      "Epoch 36/50\n",
      "3165/3165 [==============================] - 3s 1ms/step - loss: 0.2834 - accuracy: 0.8966\n",
      "Epoch 37/50\n",
      "3165/3165 [==============================] - 3s 1ms/step - loss: 0.2836 - accuracy: 0.8974\n",
      "Epoch 38/50\n",
      "3165/3165 [==============================] - 3s 1ms/step - loss: 0.2831 - accuracy: 0.8969\n",
      "Epoch 39/50\n",
      "3165/3165 [==============================] - 3s 1ms/step - loss: 0.2834 - accuracy: 0.8971\n",
      "Epoch 40/50\n",
      "3165/3165 [==============================] - 3s 1ms/step - loss: 0.2828 - accuracy: 0.8968\n",
      "Epoch 41/50\n",
      "3165/3165 [==============================] - 3s 1ms/step - loss: 0.2827 - accuracy: 0.8974\n",
      "Epoch 42/50\n",
      "3165/3165 [==============================] - 3s 1ms/step - loss: 0.2831 - accuracy: 0.8973\n",
      "Epoch 43/50\n",
      "3165/3165 [==============================] - 3s 1ms/step - loss: 0.2828 - accuracy: 0.8974\n",
      "Epoch 44/50\n",
      "3165/3165 [==============================] - 4s 1ms/step - loss: 0.2829 - accuracy: 0.8975\n",
      "Epoch 45/50\n",
      "3165/3165 [==============================] - 4s 1ms/step - loss: 0.2825 - accuracy: 0.8970\n",
      "Epoch 46/50\n",
      "3165/3165 [==============================] - 4s 1ms/step - loss: 0.2825 - accuracy: 0.8971\n",
      "Epoch 47/50\n",
      "3165/3165 [==============================] - 4s 1ms/step - loss: 0.2825 - accuracy: 0.8978\n",
      "Epoch 48/50\n",
      "3165/3165 [==============================] - 4s 1ms/step - loss: 0.2821 - accuracy: 0.8980\n",
      "Epoch 49/50\n",
      "3165/3165 [==============================] - 4s 1ms/step - loss: 0.2822 - accuracy: 0.8973\n",
      "Epoch 50/50\n",
      "3165/3165 [==============================] - 4s 1ms/step - loss: 0.2823 - accuracy: 0.8980\n"
     ]
    }
   ],
   "source": [
    "#Fitting the model on the training data\n",
    "ann = model.fit(scaled_X_train,y_train, batch_size=10 , epochs=50, verbose=1)"
   ]
  },
  {
   "cell_type": "code",
   "execution_count": 78,
   "id": "85f0af9d",
   "metadata": {},
   "outputs": [
    {
     "name": "stdout",
     "output_type": "stream",
     "text": [
      "424/424 [==============================] - 0s 801us/step\n"
     ]
    }
   ],
   "source": [
    "y_pred = model.predict(scaled_X_test)"
   ]
  },
  {
   "cell_type": "code",
   "execution_count": 79,
   "id": "2f90e1de",
   "metadata": {},
   "outputs": [],
   "source": [
    "y_pred = (y_pred > 0.5)"
   ]
  },
  {
   "cell_type": "markdown",
   "id": "19dc7ffe",
   "metadata": {},
   "source": [
    "#### Evaluating the Model"
   ]
  },
  {
   "cell_type": "code",
   "execution_count": 80,
   "id": "4c332fdc",
   "metadata": {},
   "outputs": [
    {
     "name": "stdout",
     "output_type": "stream",
     "text": [
      "Accuracy: 0.893246829843704\n"
     ]
    }
   ],
   "source": [
    "#Accuracy Score\n",
    "print(\"Accuracy:\",metrics.accuracy_score(y_test, y_pred))"
   ]
  },
  {
   "cell_type": "code",
   "execution_count": 81,
   "id": "bd600c58",
   "metadata": {},
   "outputs": [
    {
     "data": {
      "text/plain": [
       "array([[11714,   252],\n",
       "       [ 1196,   402]], dtype=int64)"
      ]
     },
     "execution_count": 81,
     "metadata": {},
     "output_type": "execute_result"
    }
   ],
   "source": [
    "#Confusion matrix\n",
    "conf_mat = metrics.confusion_matrix(y_test, y_pred)\n",
    "conf_mat"
   ]
  },
  {
   "cell_type": "code",
   "execution_count": 104,
   "id": "8234d767",
   "metadata": {},
   "outputs": [
    {
     "data": {
      "image/png": "[encoded data removed]",
      "text/plain": [
       "<Figure size 432x288 with 2 Axes>"
      ]
     },
     "metadata": {},
     "output_type": "display_data"
    }
   ],
   "source": [
    "#Plotting heatmap of confusion matrix\n",
    "\n",
    "ax = plt.subplot()\n",
    "\n",
    "sns.heatmap(conf_mat/np.sum(conf_mat), annot=True, \n",
    "            fmt='.2%', cmap='Blues', ax = ax)\n",
    "\n",
    "ax.set_xlabel('Predicted labels');ax.set_ylabel('True labels'); \n",
    "ax.set_title('Confusion Matrix'); \n",
    "ax.xaxis.set_ticklabels(['No', 'Yes']); ax.yaxis.set_ticklabels(['No', 'Yes']);"
   ]
  },
  {
   "cell_type": "code",
   "execution_count": 88,
   "id": "66e1640a",
   "metadata": {},
   "outputs": [
    {
     "name": "stdout",
     "output_type": "stream",
     "text": [
      "              precision    recall  f1-score   support\n",
      "\n",
      "           0       0.91      0.98      0.94     11966\n",
      "           1       0.60      0.26      0.36      1598\n",
      "\n",
      "    accuracy                           0.89     13564\n",
      "   macro avg       0.75      0.62      0.65     13564\n",
      "weighted avg       0.87      0.89      0.87     13564\n",
      "\n"
     ]
    }
   ],
   "source": [
    "#Classification report\n",
    "print(metrics.classification_report(y_test, y_pred))"
   ]
  },
  {
   "cell_type": "markdown",
   "id": "efe9408e",
   "metadata": {},
   "source": [
    "### Artificial Neural Network (Multi-Layer Perceptron) With Duration Included"
   ]
  },
  {
   "cell_type": "markdown",
   "id": "5a778fb1",
   "metadata": {},
   "source": [
    "#### Fitting and Training the Model, Making Predictions on the Testing Data"
   ]
  },
  {
   "cell_type": "code",
   "execution_count": 90,
   "id": "50d455c4",
   "metadata": {},
   "outputs": [],
   "source": [
    "model_dur = keras.Sequential()"
   ]
  },
  {
   "cell_type": "code",
   "execution_count": 91,
   "id": "24b8c6bc",
   "metadata": {},
   "outputs": [],
   "source": [
    "#Input layer/First hidden layer\n",
    "model_dur.add(Dense(units=10, input_dim=51, kernel_initializer='uniform', activation='relu'))"
   ]
  },
  {
   "cell_type": "code",
   "execution_count": 92,
   "id": "136eb02c",
   "metadata": {},
   "outputs": [],
   "source": [
    "#Second hidden layer\n",
    "model_dur.add(Dense(units=6, kernel_initializer='uniform', activation='relu')) "
   ]
  },
  {
   "cell_type": "code",
   "execution_count": 93,
   "id": "31878b13",
   "metadata": {},
   "outputs": [],
   "source": [
    "#Output layer\n",
    "model_dur.add(Dense(units=1, kernel_initializer='uniform', activation='sigmoid'))"
   ]
  },
  {
   "cell_type": "code",
   "execution_count": 95,
   "id": "930d5bda",
   "metadata": {},
   "outputs": [],
   "source": [
    "model_dur.compile(optimizer='adam', loss='binary_crossentropy', metrics=['accuracy'])"
   ]
  },
  {
   "cell_type": "code",
   "execution_count": 96,
   "id": "607209d1",
   "metadata": {},
   "outputs": [
    {
     "name": "stdout",
     "output_type": "stream",
     "text": [
      "Epoch 1/50\n",
      "3165/3165 [==============================] - 4s 1ms/step - loss: 0.2980 - accuracy: 0.8815\n",
      "Epoch 2/50\n",
      "3165/3165 [==============================] - 3s 1ms/step - loss: 0.2357 - accuracy: 0.8923\n",
      "Epoch 3/50\n",
      "3165/3165 [==============================] - 3s 1ms/step - loss: 0.2307 - accuracy: 0.8965\n",
      "Epoch 4/50\n",
      "3165/3165 [==============================] - 4s 1ms/step - loss: 0.2292 - accuracy: 0.8966\n",
      "Epoch 5/50\n",
      "3165/3165 [==============================] - 4s 1ms/step - loss: 0.2276 - accuracy: 0.8992\n",
      "Epoch 6/50\n",
      "3165/3165 [==============================] - 4s 1ms/step - loss: 0.2270 - accuracy: 0.8990\n",
      "Epoch 7/50\n",
      "3165/3165 [==============================] - 4s 1ms/step - loss: 0.2260 - accuracy: 0.8998\n",
      "Epoch 8/50\n",
      "3165/3165 [==============================] - 4s 1ms/step - loss: 0.2247 - accuracy: 0.9014\n",
      "Epoch 9/50\n",
      "3165/3165 [==============================] - 4s 1ms/step - loss: 0.2250 - accuracy: 0.9006\n",
      "Epoch 10/50\n",
      "3165/3165 [==============================] - 3s 1ms/step - loss: 0.2245 - accuracy: 0.9003\n",
      "Epoch 11/50\n",
      "3165/3165 [==============================] - 4s 1ms/step - loss: 0.2242 - accuracy: 0.9009\n",
      "Epoch 12/50\n",
      "3165/3165 [==============================] - 4s 1ms/step - loss: 0.2236 - accuracy: 0.9013\n",
      "Epoch 13/50\n",
      "3165/3165 [==============================] - 3s 1ms/step - loss: 0.2227 - accuracy: 0.9021\n",
      "Epoch 14/50\n",
      "3165/3165 [==============================] - 4s 1ms/step - loss: 0.2227 - accuracy: 0.9019\n",
      "Epoch 15/50\n",
      "3165/3165 [==============================] - 4s 1ms/step - loss: 0.2216 - accuracy: 0.9022\n",
      "Epoch 16/50\n",
      "3165/3165 [==============================] - 4s 1ms/step - loss: 0.2219 - accuracy: 0.9018\n",
      "Epoch 17/50\n",
      "3165/3165 [==============================] - 4s 1ms/step - loss: 0.2205 - accuracy: 0.9018\n",
      "Epoch 18/50\n",
      "3165/3165 [==============================] - 4s 1ms/step - loss: 0.2201 - accuracy: 0.9025\n",
      "Epoch 19/50\n",
      "3165/3165 [==============================] - 4s 1ms/step - loss: 0.2192 - accuracy: 0.9033\n",
      "Epoch 20/50\n",
      "3165/3165 [==============================] - 4s 1ms/step - loss: 0.2190 - accuracy: 0.9032\n",
      "Epoch 21/50\n",
      "3165/3165 [==============================] - 4s 1ms/step - loss: 0.2189 - accuracy: 0.9029\n",
      "Epoch 22/50\n",
      "3165/3165 [==============================] - 4s 1ms/step - loss: 0.2184 - accuracy: 0.9032\n",
      "Epoch 23/50\n",
      "3165/3165 [==============================] - 4s 1ms/step - loss: 0.2177 - accuracy: 0.9033\n",
      "Epoch 24/50\n",
      "3165/3165 [==============================] - 4s 1ms/step - loss: 0.2174 - accuracy: 0.9029\n",
      "Epoch 25/50\n",
      "3165/3165 [==============================] - 4s 1ms/step - loss: 0.2163 - accuracy: 0.9030\n",
      "Epoch 26/50\n",
      "3165/3165 [==============================] - 4s 1ms/step - loss: 0.2152 - accuracy: 0.9025\n",
      "Epoch 27/50\n",
      "3165/3165 [==============================] - 4s 1ms/step - loss: 0.2154 - accuracy: 0.9034\n",
      "Epoch 28/50\n",
      "3165/3165 [==============================] - 4s 1ms/step - loss: 0.2143 - accuracy: 0.9036\n",
      "Epoch 29/50\n",
      "3165/3165 [==============================] - 4s 1ms/step - loss: 0.2141 - accuracy: 0.9036\n",
      "Epoch 30/50\n",
      "3165/3165 [==============================] - 4s 1ms/step - loss: 0.2146 - accuracy: 0.9042\n",
      "Epoch 31/50\n",
      "3165/3165 [==============================] - 4s 1ms/step - loss: 0.2137 - accuracy: 0.9032\n",
      "Epoch 32/50\n",
      "3165/3165 [==============================] - 4s 1ms/step - loss: 0.2137 - accuracy: 0.9033\n",
      "Epoch 33/50\n",
      "3165/3165 [==============================] - 4s 1ms/step - loss: 0.2131 - accuracy: 0.9028\n",
      "Epoch 34/50\n",
      "3165/3165 [==============================] - 4s 1ms/step - loss: 0.2127 - accuracy: 0.9034\n",
      "Epoch 35/50\n",
      "3165/3165 [==============================] - 4s 1ms/step - loss: 0.2121 - accuracy: 0.9034\n",
      "Epoch 36/50\n",
      "3165/3165 [==============================] - 4s 1ms/step - loss: 0.2111 - accuracy: 0.9038\n",
      "Epoch 37/50\n",
      "3165/3165 [==============================] - 4s 1ms/step - loss: 0.2116 - accuracy: 0.9037\n",
      "Epoch 38/50\n",
      "3165/3165 [==============================] - 4s 1ms/step - loss: 0.2100 - accuracy: 0.9041\n",
      "Epoch 39/50\n",
      "3165/3165 [==============================] - 4s 1ms/step - loss: 0.2100 - accuracy: 0.9044\n",
      "Epoch 40/50\n",
      "3165/3165 [==============================] - 4s 1ms/step - loss: 0.2096 - accuracy: 0.9044\n",
      "Epoch 41/50\n",
      "3165/3165 [==============================] - 4s 1ms/step - loss: 0.2100 - accuracy: 0.9047\n",
      "Epoch 42/50\n",
      "3165/3165 [==============================] - 4s 1ms/step - loss: 0.2133 - accuracy: 0.9038\n",
      "Epoch 43/50\n",
      "3165/3165 [==============================] - 4s 1ms/step - loss: 0.2096 - accuracy: 0.9052\n",
      "Epoch 44/50\n",
      "3165/3165 [==============================] - 4s 1ms/step - loss: 0.2081 - accuracy: 0.9047\n",
      "Epoch 45/50\n",
      "3165/3165 [==============================] - 4s 1ms/step - loss: 0.2083 - accuracy: 0.9050\n",
      "Epoch 46/50\n",
      "3165/3165 [==============================] - 4s 1ms/step - loss: 0.2086 - accuracy: 0.9050\n",
      "Epoch 47/50\n",
      "3165/3165 [==============================] - 4s 1ms/step - loss: 0.2085 - accuracy: 0.9051\n",
      "Epoch 48/50\n",
      "3165/3165 [==============================] - 4s 1ms/step - loss: 0.2078 - accuracy: 0.9062\n",
      "Epoch 49/50\n",
      "3165/3165 [==============================] - 4s 1ms/step - loss: 0.2073 - accuracy: 0.9048\n",
      "Epoch 50/50\n",
      "3165/3165 [==============================] - 4s 1ms/step - loss: 0.2076 - accuracy: 0.9040\n"
     ]
    }
   ],
   "source": [
    "#Fitting the model on the training data\n",
    "ann_dur = model_dur.fit(scaled_X_train_d,y_train_d, batch_size=10 , epochs=50, verbose=1)"
   ]
  },
  {
   "cell_type": "code",
   "execution_count": 97,
   "id": "59a3b046",
   "metadata": {},
   "outputs": [
    {
     "name": "stdout",
     "output_type": "stream",
     "text": [
      "424/424 [==============================] - 0s 791us/step\n"
     ]
    }
   ],
   "source": [
    "y_pred = model_dur.predict(scaled_X_test_d)"
   ]
  },
  {
   "cell_type": "code",
   "execution_count": 98,
   "id": "4722f184",
   "metadata": {},
   "outputs": [],
   "source": [
    "y_pred = (y_pred > 0.5)"
   ]
  },
  {
   "cell_type": "markdown",
   "id": "d0d42458",
   "metadata": {},
   "source": [
    "#### Evaluating the Model"
   ]
  },
  {
   "cell_type": "code",
   "execution_count": 99,
   "id": "03308a27",
   "metadata": {},
   "outputs": [
    {
     "name": "stdout",
     "output_type": "stream",
     "text": [
      "Accuracy: 0.9060011795930404\n"
     ]
    }
   ],
   "source": [
    "#Accuracy Score\n",
    "print(\"Accuracy:\",metrics.accuracy_score(y_test_d, y_pred))"
   ]
  },
  {
   "cell_type": "code",
   "execution_count": 100,
   "id": "785d016e",
   "metadata": {},
   "outputs": [
    {
     "data": {
      "text/plain": [
       "array([[11584,   382],\n",
       "       [  893,   705]], dtype=int64)"
      ]
     },
     "execution_count": 100,
     "metadata": {},
     "output_type": "execute_result"
    }
   ],
   "source": [
    "conf_mat = metrics.confusion_matrix(y_test_d, y_pred)\n",
    "conf_mat"
   ]
  },
  {
   "cell_type": "code",
   "execution_count": 101,
   "id": "ecad8571",
   "metadata": {},
   "outputs": [
    {
     "name": "stdout",
     "output_type": "stream",
     "text": [
      "              precision    recall  f1-score   support\n",
      "\n",
      "           0       0.93      0.97      0.95     11966\n",
      "           1       0.65      0.44      0.53      1598\n",
      "\n",
      "    accuracy                           0.91     13564\n",
      "   macro avg       0.79      0.70      0.74     13564\n",
      "weighted avg       0.90      0.91      0.90     13564\n",
      "\n"
     ]
    }
   ],
   "source": [
    "#Classification report\n",
    "print(metrics.classification_report(y_test_d, y_pred))"
   ]
  }
 ],
 "metadata": {
  "kernelspec": {
   "display_name": "Python 3 (ipykernel)",
   "language": "python",
   "name": "python3"
  },
  "language_info": {
   "codemirror_mode": {
    "name": "ipython",
    "version": 3
   },
   "file_extension": ".py",
   "mimetype": "text/x-python",
   "name": "python",
   "nbconvert_exporter": "python",
   "pygments_lexer": "ipython3",
   "version": "3.9.7"
  }
 },
 "nbformat": 4,
 "nbformat_minor": 5
}
